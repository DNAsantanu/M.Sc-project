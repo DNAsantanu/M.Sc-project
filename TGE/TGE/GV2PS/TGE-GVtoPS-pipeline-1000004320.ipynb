{
 "cells": [
  {
   "cell_type": "code",
   "execution_count": 1,
   "id": "ca79f1d3",
   "metadata": {},
   "outputs": [],
   "source": [
    "import numpy as np\n",
    "import cldnufuncs as cfunc\n",
    "import matplotlib.pyplot as plt\n",
    "import spherical_bin as sp\n",
    "import window as win\n",
    "import pkfuncs as pfunc\n",
    "import sys"
   ]
  },
  {
   "cell_type": "code",
   "execution_count": 2,
   "id": "8ce36611",
   "metadata": {},
   "outputs": [],
   "source": [
    "path = '/lfs/usrhome/phd/ph22d020/scratch/TGE_output/1000004320' # path to the Gridded visibilities.\n",
    "\n",
    "\n",
    "Ncores = 8\n",
    "Nmg = 10  # Number of realizations for Mg\n",
    "\n",
    "# inputs\n",
    "nc = 768\n",
    "\n",
    "# nc is always used for total channels\n",
    "NC = 1 # no. of channels to collapse\n",
    "xn = 0 # no. of grids to exclude from from each sides of the gridded data.\n",
    "na = nc//NC # No. of channels available after collapse.\n",
    "\n",
    "# header\n",
    "headersize = (nc+3)*np.float64().itemsize\n",
    "hinfo = cfunc.read_header(str(path)+'/GV_data', headersize, nc)\n",
    "hinfo = np.asarray(hinfo, dtype='object')\n",
    "np.save(str(path)+'/hinfo', hinfo)"
   ]
  },
  {
   "cell_type": "code",
   "execution_count": 3,
   "id": "10fbe69c",
   "metadata": {
    "scrolled": false
   },
   "outputs": [],
   "source": [
    "#hinfo"
   ]
  },
  {
   "cell_type": "code",
   "execution_count": 5,
   "id": "152cd72f",
   "metadata": {},
   "outputs": [
    {
     "ename": "OSError",
     "evalue": "[Errno 122] Disk quota exceeded",
     "output_type": "error",
     "traceback": [
      "\u001b[0;31m---------------------------------------------------------------------------\u001b[0m",
      "\u001b[0;31mOSError\u001b[0m                                   Traceback (most recent call last)",
      "\u001b[0;32m/lfs/sware/anaconda3_2021/lib/python3.8/site-packages/numpy/lib/npyio.py\u001b[0m in \u001b[0;36msave\u001b[0;34m(file, arr, allow_pickle, fix_imports)\u001b[0m\n\u001b[1;32m    518\u001b[0m         \u001b[0marr\u001b[0m \u001b[0;34m=\u001b[0m \u001b[0mnp\u001b[0m\u001b[0;34m.\u001b[0m\u001b[0masanyarray\u001b[0m\u001b[0;34m(\u001b[0m\u001b[0marr\u001b[0m\u001b[0;34m)\u001b[0m\u001b[0;34m\u001b[0m\u001b[0;34m\u001b[0m\u001b[0m\n\u001b[0;32m--> 519\u001b[0;31m         format.write_array(fid, arr, allow_pickle=allow_pickle,\n\u001b[0m\u001b[1;32m    520\u001b[0m                            pickle_kwargs=dict(fix_imports=fix_imports))\n",
      "\u001b[0;32m/lfs/sware/anaconda3_2021/lib/python3.8/site-packages/numpy/lib/format.py\u001b[0m in \u001b[0;36mwrite_array\u001b[0;34m(fp, array, version, allow_pickle, pickle_kwargs)\u001b[0m\n\u001b[1;32m    689\u001b[0m         \u001b[0;32mif\u001b[0m \u001b[0misfileobj\u001b[0m\u001b[0;34m(\u001b[0m\u001b[0mfp\u001b[0m\u001b[0;34m)\u001b[0m\u001b[0;34m:\u001b[0m\u001b[0;34m\u001b[0m\u001b[0;34m\u001b[0m\u001b[0m\n\u001b[0;32m--> 690\u001b[0;31m             \u001b[0marray\u001b[0m\u001b[0;34m.\u001b[0m\u001b[0mtofile\u001b[0m\u001b[0;34m(\u001b[0m\u001b[0mfp\u001b[0m\u001b[0;34m)\u001b[0m\u001b[0;34m\u001b[0m\u001b[0;34m\u001b[0m\u001b[0m\n\u001b[0m\u001b[1;32m    691\u001b[0m         \u001b[0;32melse\u001b[0m\u001b[0;34m:\u001b[0m\u001b[0;34m\u001b[0m\u001b[0;34m\u001b[0m\u001b[0m\n",
      "\u001b[0;31mOSError\u001b[0m: [Errno 122] Disk quota exceeded",
      "\nDuring handling of the above exception, another exception occurred:\n",
      "\u001b[0;31mOSError\u001b[0m                                   Traceback (most recent call last)",
      "\u001b[0;32m<ipython-input-5-82ce0b89e519>\u001b[0m in \u001b[0;36m<module>\u001b[0;34m\u001b[0m\n\u001b[1;32m      1\u001b[0m \u001b[0;31m#eg\u001b[0m\u001b[0;34m\u001b[0m\u001b[0;34m\u001b[0m\u001b[0;34m\u001b[0m\u001b[0m\n\u001b[1;32m      2\u001b[0m \u001b[0meg1\u001b[0m \u001b[0;34m=\u001b[0m \u001b[0mcfunc\u001b[0m\u001b[0;34m.\u001b[0m\u001b[0mfunc_cldnu_multi\u001b[0m\u001b[0;34m(\u001b[0m\u001b[0mstr\u001b[0m\u001b[0;34m(\u001b[0m\u001b[0mpath\u001b[0m\u001b[0;34m)\u001b[0m\u001b[0;34m+\u001b[0m\u001b[0;34m'/GV_data'\u001b[0m\u001b[0;34m,\u001b[0m \u001b[0mnc\u001b[0m\u001b[0;34m,\u001b[0m \u001b[0mNC\u001b[0m\u001b[0;34m,\u001b[0m \u001b[0mxn\u001b[0m\u001b[0;34m,\u001b[0m \u001b[0mNcores\u001b[0m\u001b[0;34m)\u001b[0m\u001b[0;34m\u001b[0m\u001b[0;34m\u001b[0m\u001b[0m\n\u001b[0;32m----> 3\u001b[0;31m \u001b[0mnp\u001b[0m\u001b[0;34m.\u001b[0m\u001b[0msave\u001b[0m\u001b[0;34m(\u001b[0m\u001b[0mstr\u001b[0m\u001b[0;34m(\u001b[0m\u001b[0mpath\u001b[0m\u001b[0;34m)\u001b[0m\u001b[0;34m+\u001b[0m\u001b[0;34m'/eg'\u001b[0m\u001b[0;34m,\u001b[0m \u001b[0meg1\u001b[0m\u001b[0;34m)\u001b[0m \u001b[0;31m# unnormalized estimate, can be normalized with Mg.\u001b[0m\u001b[0;34m\u001b[0m\u001b[0;34m\u001b[0m\u001b[0m\n\u001b[0m\u001b[1;32m      4\u001b[0m \u001b[0;34m\u001b[0m\u001b[0m\n\u001b[1;32m      5\u001b[0m \u001b[0;31m#eg1 = np.load('/lfs/usrhome/phd/ph22d020/scratch/TGE_output/1000004200/eg.npy')\u001b[0m\u001b[0;34m\u001b[0m\u001b[0;34m\u001b[0m\u001b[0;34m\u001b[0m\u001b[0m\n",
      "\u001b[0;32m/lfs/sware/anaconda3_2021/lib/python3.8/site-packages/numpy/core/overrides.py\u001b[0m in \u001b[0;36msave\u001b[0;34m(*args, **kwargs)\u001b[0m\n",
      "\u001b[0;32m/lfs/sware/anaconda3_2021/lib/python3.8/site-packages/numpy/lib/npyio.py\u001b[0m in \u001b[0;36msave\u001b[0;34m(file, arr, allow_pickle, fix_imports)\u001b[0m\n\u001b[1;32m    517\u001b[0m     \u001b[0;32mwith\u001b[0m \u001b[0mfile_ctx\u001b[0m \u001b[0;32mas\u001b[0m \u001b[0mfid\u001b[0m\u001b[0;34m:\u001b[0m\u001b[0;34m\u001b[0m\u001b[0;34m\u001b[0m\u001b[0m\n\u001b[1;32m    518\u001b[0m         \u001b[0marr\u001b[0m \u001b[0;34m=\u001b[0m \u001b[0mnp\u001b[0m\u001b[0;34m.\u001b[0m\u001b[0masanyarray\u001b[0m\u001b[0;34m(\u001b[0m\u001b[0marr\u001b[0m\u001b[0;34m)\u001b[0m\u001b[0;34m\u001b[0m\u001b[0;34m\u001b[0m\u001b[0m\n\u001b[0;32m--> 519\u001b[0;31m         format.write_array(fid, arr, allow_pickle=allow_pickle,\n\u001b[0m\u001b[1;32m    520\u001b[0m                            pickle_kwargs=dict(fix_imports=fix_imports))\n\u001b[1;32m    521\u001b[0m \u001b[0;34m\u001b[0m\u001b[0m\n",
      "\u001b[0;31mOSError\u001b[0m: [Errno 122] Disk quota exceeded"
     ]
    }
   ],
   "source": [
    "#eg    \n",
    "eg1 = cfunc.func_cldnu_multi(str(path)+'/GV_data', nc, NC, xn, Ncores) \n",
    "np.save(str(path)+'/eg', eg1) # unnormalized estimate, can be normalized with Mg.\n",
    "\n",
    "#eg1 = np.load('/lfs/usrhome/phd/ph22d020/scratch/TGE_output/1000004200/eg.npy')\n",
    "print('eg estimated. \\n')"
   ]
  },
  {
   "cell_type": "code",
   "execution_count": null,
   "id": "b7d22971",
   "metadata": {},
   "outputs": [],
   "source": [
    "eg1.shape"
   ]
  },
  {
   "cell_type": "code",
   "execution_count": null,
   "id": "35db4f3b",
   "metadata": {},
   "outputs": [],
   "source": [
    "#print(eg1[0,0,:])"
   ]
  },
  {
   "cell_type": "code",
   "execution_count": null,
   "id": "b06dd723",
   "metadata": {},
   "outputs": [],
   "source": [
    "plt.imshow((eg1[:, :, 1]))\n",
    "plt.colorbar()"
   ]
  },
  {
   "cell_type": "code",
   "execution_count": null,
   "id": "e0f1df66",
   "metadata": {},
   "outputs": [],
   "source": [
    "plt.plot(eg1[:,0,0])\n",
    "plt.plot(eg1[0,:,0])"
   ]
  },
  {
   "cell_type": "code",
   "execution_count": null,
   "id": "960f5336",
   "metadata": {},
   "outputs": [],
   "source": [
    "# Mg, save the GV-mg as GV-mg-1, GV-mg-2 etc. \n",
    "\n",
    "#mg = np.zeros_like(eg1)\n",
    "\n",
    "#for ii in range(Nmg):\n",
    "#    mg += cfunc.func_cldnu_multi(str(path)+'/GV-mg-'+str(ii+1), nc, NC, xn, Ncores)\n",
    "#    print('Mg done for Re '+str(ii+1))\n",
    "#mg /= Nmg\n",
    "#np.save(str(path)+'/mg', mg) # unnormalized estimate, can be normalized with Mg.\n",
    "#print('Mg estimated. \\n')"
   ]
  },
  {
   "cell_type": "code",
   "execution_count": null,
   "id": "d0d9e55c",
   "metadata": {},
   "outputs": [],
   "source": [
    "# # 1. Noise in a grid: estimate noise in a grid for all realizations and save them\n",
    "# Nnoise = 10 # Number of realizations for noise.\n",
    "# for ii in range(Nnoise):\n",
    "#     egn = cfunc.func_cldnu_multi(str(path)+'/GV-noise-'+str(ii+1), nc, NC, xn, Ncores)\n",
    "#     np.save(str(path)+'/eg-noise/egn-'+str(ii+1), egn) # unnormalized estimate, can be normalized with Mg.\n",
    "#     print('Noise done for Re '+str(ii+1)) # kept at a directory \"eg-noise\"\n",
    "\n",
    "# print('Noise estimated in grids. \\n')\n"
   ]
  },
  {
   "cell_type": "markdown",
   "id": "c78c3867",
   "metadata": {},
   "source": [
    "# cl and PS calculations"
   ]
  },
  {
   "cell_type": "code",
   "execution_count": null,
   "id": "8a3614af",
   "metadata": {},
   "outputs": [],
   "source": [
    "FWHM, dUg, f, nua = np.load('/lfs/usrhome/phd/ph22d020/scratch/TGE_output/1000004320/hinfo.npy', allow_pickle=True)\n",
    "eg = np.load('/lfs/usrhome/phd/ph22d020/scratch/TGE_output/1000004320/eg.npy')\n",
    "mg = np.load('/lfs/usrhome/phd/ph22d020/scratch/TGE_output/1000004320/mg.npy') # mg = 800 Nrea. \n",
    "\n",
    "# eg to cl, binning parameters \n",
    "U1, U2, NBin = 0, 200, 10\n",
    "\n",
    "# binning\n",
    "el = cfunc.func_bincl(eg, dUg, U1, U2, NBin)\n",
    "ml = cfunc.func_bincl(mg, dUg, U1, U2, NBin)\n",
    "cl = el/ml # estimated cl (in a bin)\n",
    "\n",
    "\n",
    "# # 2. Noise in a bin: read each realization from grid, bin them individually\n",
    "# cln1 = np.zeros((Nrea, NBin, nc))\n",
    "# for ii in range(Nnoise):\n",
    "#     eln = np.load(str(path)+'/eg-noise/egn-'+str(ii+1)+'.npy')\n",
    "#     cln1[ii] = cfunc.func_bincl(eln, dUg, U1, U2, NBin)/ml # normalized\n",
    "# cln = np.std(cln1, axis=0)/np.sqrt(Nnoise)\n",
    "cln = np.ones((NBin, nc)) # unit noise (when you have no noise estimates)\n",
    "\n",
    "lb = cfunc.mk_lin_bin(mg, dUg, U1, U2, NBin)[0]*2.*np.pi # estimated ell (in a bin)\n",
    "ell = np.intc(lb)\n",
    "nell = len(ell)\n",
    "\n",
    "clinfo = np.empty(3, dtype='object')\n",
    "clinfo[:3] = cl, cln, lb\n",
    "np.save(str(path)+'/clinfo.npy', clinfo) # all you need for PS"
   ]
  },
  {
   "cell_type": "code",
   "execution_count": null,
   "id": "a18fde3c",
   "metadata": {},
   "outputs": [],
   "source": [
    "nell"
   ]
  },
  {
   "cell_type": "code",
   "execution_count": null,
   "id": "d4bcd64b",
   "metadata": {},
   "outputs": [],
   "source": [
    "cl.shape"
   ]
  },
  {
   "cell_type": "markdown",
   "id": "2aec7c1e",
   "metadata": {},
   "source": [
    "# PS"
   ]
  },
  {
   "cell_type": "code",
   "execution_count": null,
   "id": "55a4123e",
   "metadata": {},
   "outputs": [],
   "source": [
    "# read cl\n",
    "cl_file, cln_file, lb = np.load('/lfs/usrhome/phd/ph22d020/scratch/TGE_output/1000004320/clinfo.npy', allow_pickle='True') # cl, cl-error, ell\n",
    "FWHM, dUg, f, nua = np.load('/lfs/usrhome/phd/ph22d020/scratch/TGE_output/1000004320/hinfo.npy', allow_pickle=True)\n",
    "\n",
    "#cl_file1, cln_file1, lb1 = np.load('/lfs/usrhome/phd/ph22d020/scratch/TGE/GV2PS/clinfo.npy', allow_pickle='True') # cl, cl-error, ell"
   ]
  },
  {
   "cell_type": "code",
   "execution_count": null,
   "id": "e4640195",
   "metadata": {},
   "outputs": [],
   "source": [
    "cl = []\n",
    "for i in range(cl_file.shape[0]):\n",
    "    cl.append(cl_file[i][~np.isnan(cl_file[i])])\n",
    "cl = np.array(cl)"
   ]
  },
  {
   "cell_type": "code",
   "execution_count": null,
   "id": "0eb7bafd",
   "metadata": {},
   "outputs": [],
   "source": [
    "cln = []\n",
    "for i in range(cln_file.shape[0]):\n",
    "    cln.append(cln_file[i][~np.isnan(cl_file[i])])\n",
    "cln = np.array(cln)    "
   ]
  },
  {
   "cell_type": "code",
   "execution_count": null,
   "id": "c03ae269",
   "metadata": {},
   "outputs": [],
   "source": [
    "cln.shape"
   ]
  },
  {
   "cell_type": "code",
   "execution_count": null,
   "id": "20051792",
   "metadata": {},
   "outputs": [],
   "source": [
    "# CL \n",
    "\n",
    "nc = cl.shape[-1]\n",
    "nuc = nua.mean()/1e6 # nu_c\n",
    "dnuc = abs(nua[1]-nua[0])/1e6 # delta-nu-c MHz\n",
    "dnu = np.arange(nc)*dnuc # MHz\n",
    "ell = np.intc(lb)\n",
    "nell = len(ell)\n",
    "\n",
    "# PS\n",
    "r, rp = 9209.37, 16.98 # Mpc (Planck 2018) # z = 2.28 \n",
    "#rp value should be fixed later\n",
    "\n",
    "fac = r/(rp*nuc) # wedge boundary: kpara_H = fac*kper \n",
    "dkl = np.ones(nell)*1. # fixed buffer\n",
    "# dkl[:] = np.array([0.5, 1.4, 1.0, 1.3, 0.02, 1., 1., 1., 1.2, 1.2]) #  # individual buffer for a kper-bin\n",
    "\n",
    "vfac = rp*r*r*dnuc*(nc-1) # DCT factor \n",
    "kper = ell/r\n",
    "kpara = 2.*np.pi*np.arange(nc)/(rp*(2.*nc-2.)*dnuc)\n",
    "covi = 1/cln**2 # noise variance inverse \n",
    "\n",
    "\n",
    "# window for Fourier transform\n",
    "w = win.window('BN', np.arange(nc))\n"
   ]
  },
  {
   "cell_type": "code",
   "execution_count": null,
   "id": "b40e3fca",
   "metadata": {},
   "outputs": [],
   "source": [
    "lb.shape, ell"
   ]
  },
  {
   "cell_type": "code",
   "execution_count": null,
   "id": "08db98b8",
   "metadata": {},
   "outputs": [],
   "source": [
    "cl.shape"
   ]
  },
  {
   "cell_type": "code",
   "execution_count": null,
   "id": "a60eedef",
   "metadata": {},
   "outputs": [],
   "source": [
    "plt.figure(figsize = (10,7))\n",
    "plt.plot(dnu,cl[0,:], label=r'$\\ell$='+str(ell[0]))\n",
    "plt.xscale('log')\n",
    "plt.yscale('log')\n",
    "plt.xlabel(r'$\\ell$',fontsize = '20')\n",
    "plt.ylabel(r'$C(\\ell ,0)$', fontsize = '20')\n",
    "plt.legend(fontsize = 20)"
   ]
  },
  {
   "cell_type": "code",
   "execution_count": null,
   "id": "56dc1879",
   "metadata": {},
   "outputs": [],
   "source": [
    "plt.figure(figsize = (10,7))\n",
    "plt.plot(ell,cl[:,0])\n",
    "plt.xscale('log')\n",
    "plt.yscale('log')\n",
    "plt.xlabel(r'$\\ell$',fontsize = '20')\n",
    "plt.ylabel(r'$C(\\ell ,0)$', fontsize = '20')\n",
    "plt.legend()"
   ]
  },
  {
   "cell_type": "code",
   "execution_count": null,
   "id": "3fc78713",
   "metadata": {},
   "outputs": [],
   "source": [
    "for ii in range(nell):\n",
    "    #plt.figure(figsize = (10,7))\n",
    "    plt.plot(dnu, cl[ii], label=r'$\\ell$='+str(ell[ii]))\n",
    "    plt.xscale('linear')\n",
    "    plt.yscale('linear')\n",
    "    plt.xlabel(r'$\\Delta \\nu$',fontsize = '20')\n",
    "    plt.ylabel(r'$C_{\\ell}(\\Delta \\nu)}$', fontsize = '20')\n",
    "    plt.legend(fontsize = 5)"
   ]
  },
  {
   "cell_type": "code",
   "execution_count": null,
   "id": "3562bdf0",
   "metadata": {
    "scrolled": true
   },
   "outputs": [],
   "source": [
    "dnu.shape"
   ]
  },
  {
   "cell_type": "code",
   "execution_count": null,
   "id": "f417d99f",
   "metadata": {
    "scrolled": true
   },
   "outputs": [],
   "source": [
    "ell"
   ]
  },
  {
   "cell_type": "code",
   "execution_count": null,
   "id": "a848d2e4",
   "metadata": {},
   "outputs": [],
   "source": [
    "cl.shape"
   ]
  },
  {
   "cell_type": "code",
   "execution_count": null,
   "id": "ad58fcf9",
   "metadata": {},
   "outputs": [],
   "source": [
    "from matplotlib.colors import LogNorm\n",
    "y, x = np.meshgrid(dnu, ell)\n",
    "plt.pcolormesh(x, y, abs(cl), norm = LogNorm(), shading='auto') \n",
    "plt.colorbar(label = r'$C_{\\ell}$')\n",
    "plt.xscale('linear')\n",
    "plt.yscale('linear')\n",
    "plt.xlabel('$\\ell$', fontsize = 20)\n",
    "plt.ylabel(r'$\\Delta \\nu$',fontsize = '20')"
   ]
  },
  {
   "cell_type": "code",
   "execution_count": null,
   "id": "6c9ade3b",
   "metadata": {},
   "outputs": [],
   "source": [
    "from matplotlib.colors import LogNorm\n",
    "y, x = np.meshgrid(dnu, ell)\n",
    "plt.pcolormesh(x, y, cl, norm = LogNorm(), shading='auto')\n",
    "plt.colorbar(label = r'$C_{\\ell}$')\n",
    "plt.xscale('linear')\n",
    "plt.yscale('linear')\n",
    "plt.xlabel('$\\ell$', fontsize = 20)\n",
    "plt.ylabel(r'$\\Delta \\nu$',fontsize = '20')"
   ]
  },
  {
   "cell_type": "code",
   "execution_count": null,
   "id": "4c6dc7f7",
   "metadata": {},
   "outputs": [],
   "source": [
    "#nc, nuc, dnuc, dnu, ell, nell\n",
    "#covi"
   ]
  },
  {
   "cell_type": "code",
   "execution_count": null,
   "id": "6d556a6a",
   "metadata": {},
   "outputs": [],
   "source": [
    "w.shape, cl.shape, covi.shape, vfac.shape"
   ]
  },
  {
   "cell_type": "code",
   "execution_count": null,
   "id": "8fea9694",
   "metadata": {},
   "outputs": [],
   "source": [
    "pk = pfunc.func_pk(cl, w, covi, vfac) # MLE cylindrical PS P(kper, kpara) estimation"
   ]
  },
  {
   "cell_type": "code",
   "execution_count": null,
   "id": "84436512",
   "metadata": {
    "scrolled": false
   },
   "outputs": [],
   "source": [
    "pk.shape"
   ]
  },
  {
   "cell_type": "code",
   "execution_count": null,
   "id": "8749b43f",
   "metadata": {},
   "outputs": [],
   "source": [
    "for ii in range(len(kper)):\n",
    "    plt.figure(figsize = (10,7))\n",
    "    plt.plot(kpara + kpara[1],pk[ii], label = str(kper[ii]))\n",
    "    plt.xscale('log')\n",
    "    plt.yscale('symlog')\n",
    "    plt.axvline(x= fac*kper[ii], color = 'red')\n",
    "    plt.xlabel(r'$k_{||}$',fontsize = '20')\n",
    "    plt.ylabel(r'$P(k_{\\perp}, k_{||})$', fontsize = '20')\n",
    "    plt.legend(fontsize = 10)"
   ]
  },
  {
   "cell_type": "code",
   "execution_count": null,
   "id": "0ef8c02f",
   "metadata": {},
   "outputs": [],
   "source": [
    "for ii in range(len(kper)):\n",
    "    plt.figure(figsize = (10,7))\n",
    "    plt.plot(kpara + kpara[1],abs(pk[ii]),label = str(kper[ii]))\n",
    "    plt.xscale('log')\n",
    "    plt.yscale('log')\n",
    "    plt.axvline(x= fac*kper[ii], color = 'red')\n",
    "    plt.xlabel(r'$k_{||}$',fontsize = '20')\n",
    "    plt.ylabel(r'$P(k_{\\perp}, k_{||})$', fontsize = '20')\n",
    "    plt.legend()"
   ]
  },
  {
   "cell_type": "code",
   "execution_count": null,
   "id": "21326407",
   "metadata": {
    "scrolled": false
   },
   "outputs": [],
   "source": [
    "# A not-so-decent plot of cylindrical PS\n",
    "from matplotlib.colors import LogNorm\n",
    "y, x = np.meshgrid(kpara, kper)\n",
    "plt.pcolormesh(x, y, abs(pk)*1e6, norm = LogNorm(), shading='auto', cmap='coolwarm')\n",
    "plt.colorbar(label = r'$P(k_{\\perp}, k_{||})$')\n",
    "\n",
    "plt.xscale('log')\n",
    "plt.yscale('log')\n",
    "plt.plot(kper, fac*kper, 'k-')\n",
    "plt.plot(kper, fac*kper + dkl, 'k--')\n",
    "plt.xlabel(r'$k_{\\perp}$', fontsize = 20)\n",
    "plt.ylabel(r'$k_{||}$',fontsize = '20')"
   ]
  },
  {
   "cell_type": "code",
   "execution_count": null,
   "id": "3478540a",
   "metadata": {},
   "outputs": [],
   "source": [
    "sys.exit()"
   ]
  },
  {
   "cell_type": "code",
   "execution_count": null,
   "id": "a91ad78b",
   "metadata": {},
   "outputs": [],
   "source": [
    "# Spherically averaged PS (Not MLE) \n",
    "NB = 6 # spherial bins\n",
    "pks, kb, num = sp.binpk(pk,kper,kpara,dkl,fac,NB)"
   ]
  },
  {
   "cell_type": "code",
   "execution_count": null,
   "id": "5c16d3ba",
   "metadata": {},
   "outputs": [],
   "source": [
    "# Spherical PS (MLE, Elahi et al. 2023 (under review))\n",
    "\n",
    "AM, kk = sp.calc_AM(kper,kpara,dkl,fac,NB)\n",
    "\n",
    "# covi = np.ones((nell, nc))\n",
    "X, COV1 = sp.func_PE(AM, cl.flatten(), np.diag(covi.flatten()), NB, vfac) # p and COV\n",
    "pp, COV = X[:NB], COV1[:NB, :NB]\n",
    "\n",
    "# upper-limit\n",
    "dTC1, ddTC1, ulC1 = sp.func_dT(kk, pp, COV) # \n",
    "kk,  np.sqrt(dTC1), np.sqrt(ddTC1), np.sqrt(ulC1), dTC1/ddTC1 # SNR\n"
   ]
  },
  {
   "cell_type": "code",
   "execution_count": null,
   "id": "98f9bd52",
   "metadata": {},
   "outputs": [],
   "source": []
  },
  {
   "cell_type": "code",
   "execution_count": null,
   "id": "6a57ea38",
   "metadata": {},
   "outputs": [],
   "source": []
  }
 ],
 "metadata": {
  "kernelspec": {
   "display_name": "Python 3",
   "language": "python",
   "name": "python3"
  },
  "language_info": {
   "codemirror_mode": {
    "name": "ipython",
    "version": 3
   },
   "file_extension": ".py",
   "mimetype": "text/x-python",
   "name": "python",
   "nbconvert_exporter": "python",
   "pygments_lexer": "ipython3",
   "version": "3.8.8"
  }
 },
 "nbformat": 4,
 "nbformat_minor": 5
}
