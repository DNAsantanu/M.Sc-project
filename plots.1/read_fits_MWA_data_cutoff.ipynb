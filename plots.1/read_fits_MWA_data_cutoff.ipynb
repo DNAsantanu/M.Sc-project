{
 "cells": [
  {
   "cell_type": "code",
   "execution_count": 1,
   "id": "4bbd663d",
   "metadata": {},
   "outputs": [
    {
     "name": "stdout",
     "output_type": "stream",
     "text": [
      "/home/santanu-das/Downloads\r\n"
     ]
    }
   ],
   "source": [
    "!pwd"
   ]
  },
  {
   "cell_type": "code",
   "execution_count": 2,
   "id": "5c5233a9",
   "metadata": {},
   "outputs": [
    {
     "name": "stdout",
     "output_type": "stream",
     "text": [
      " 100000.png\r\n",
      " 10000.png\r\n",
      " 1001950.pdf\r\n",
      " 1002.1368.pdf\r\n",
      " 100.png\r\n",
      "'1691940854070(1).jpg'\r\n",
      "'1691940854070(1).png'\r\n",
      " 1691940854070.png\r\n",
      " 1692092166017.jpg\r\n",
      "'1695012388584(1).jpg'\r\n",
      "'1695012388584(2).jpg'\r\n",
      " 1695012388584.jpg\r\n",
      " 1695012572143.jpg\r\n",
      " 1695012674155.jpg\r\n",
      "'2023_10_22 10_07 am Office Lens(1).jpg'\r\n",
      "'2023_10_22 10_07 am Office Lens.jpg'\r\n",
      " 2301.06677.pdf\r\n",
      " 2308.08284.pdf\r\n",
      "'563dfe42-1c27-4e41-81b9-ab4ed7501955_payment_confirmation_202308224-033558(1).png'\r\n",
      " 563dfe42-1c27-4e41-81b9-ab4ed7501955_payment_confirmation_202308224-033558.png\r\n",
      " BF02702273.pdf\r\n",
      " BF02933588.pdf\r\n",
      " BF03012189.pdf\r\n",
      " Brightness-temperature-of-the-21cm-line-seen-relative-to-the-CMB-temperature-The.jpg\r\n",
      " caste_certificate.pdf\r\n",
      " cfitsio-4.3.0.tar.gz\r\n",
      " ch4.pdf\r\n",
      " concat_mstransform_export.py\r\n",
      "'Copy of Electric vs temp.xlsx'\r\n",
      "'Copy of Resume1.pdf'\r\n",
      "'Copy of Untitled_spreadsheet(1)(1).xlsx'\r\n",
      "'Copy of Untitled_spreadsheet(1)(2).xlsx'\r\n",
      "'Copy of Untitled_spreadsheet(1).xlsx'\r\n",
      " DLAs.pdf\r\n",
      "'Doc1(1).docx'\r\n",
      " Doc1.docx\r\n",
      " DOC-20230908-WA0040..pdf\r\n",
      " Dodelson_MC.pdf\r\n",
      "'Electrical resistivity Four Probe Method.pdf'\r\n",
      " ESR.pdf\r\n",
      " fftw-3.3.10.tar.gz\r\n",
      " fh.pdf\r\n",
      " Four-probe.pdf\r\n",
      " Four_probes_method-111.pdf\r\n",
      " Four_probes_method-1.pdf\r\n",
      " Four_probes_method.pdf\r\n",
      "'Frank Hertz 1.png'\r\n",
      "'Frank Hertz 2.png'\r\n",
      " GATE_payment.pdf\r\n",
      "'Ge _cooling.png'\r\n",
      " grades.pdf\r\n",
      "'graph for calculating the energy band gap of Ge.png'\r\n",
      "'Griffiths D.J. Introduction to quantum mechanics 2nd ed. - Solutions (Pearson, 2005)(303s) (1).pdf'\r\n",
      " gsl-2.7.1.tar.gz\r\n",
      " hall-1.pdf\r\n",
      " hallaaaaa.png\r\n",
      " hall_coff.png\r\n",
      "'hall effect.png'\r\n",
      " hall.pdf\r\n",
      "'Hobson M.P., Efstathiou G.P., Lasenby A.N. - GR - An Introduction for Physicists(Cambridge,2006).pdf'\r\n",
      " IIT_Madras_Resume_Template__2_page___1_-1.pdf\r\n",
      " IIT_Madras_Resume_Template__2_page_-1.pdf\r\n",
      " IIT_Madras_Resume_Template__2_page___1_.pdf\r\n",
      " IIT_Madras_Resume_Template__2_page_-2.pdf\r\n",
      " IIT_Madras_Resume_Template__2_page_-3.pdf\r\n",
      " IIT_Madras_Resume_Template__2_page_-4.pdf\r\n",
      " IIT_Madras_Resume_Template__2_page_-5.pdf\r\n",
      " IIT_Madras_Resume_Template__2_page_.pdf\r\n",
      " Iw5iwy4K49dxzAEGBYMVpIzIvxP9g8lMHNp38EDN.xls\r\n",
      " jupyter_info.txt\r\n",
      " jupyter_notebook.sh\r\n",
      " LandauLifshitz_TheClassicalTheoryOfFields_text.pdf\r\n",
      " Master-1.pdf\r\n",
      " Master-2.pdf\r\n",
      " Master-3.pdf\r\n",
      " Master.pdf\r\n",
      " microsoft-edge-stable_116.0.1938.69-1_amd64.deb\r\n",
      " pan1.pdf\r\n",
      " pan.jpg\r\n",
      " pan.pdf\r\n",
      " paper1.pdf\r\n",
      " paper2.pdf\r\n",
      " pdf2doc.zip\r\n",
      "'peakpx(1).jpg'\r\n",
      " peakpx.jpg\r\n",
      " PH5870-SR-EM-summary.pdf\r\n",
      " PH5870-SR-exercises.pdf\r\n",
      " photo.jpeg\r\n",
      " plots.1\r\n",
      "'powder xrd_rohit.pdf'\r\n",
      " Presentation-1.pdf\r\n",
      " Presentation-2.pdf\r\n",
      " Presentation.pdf\r\n",
      " presentgrades.png\r\n",
      " project-1.pdf\r\n",
      " Project_Format_BSc.pdf\r\n",
      " project.pdf\r\n",
      "'read_fits_MWA_data_cutoff(1).ipynb'\r\n",
      " read_fits_MWA_data_cutoff.ipynb\r\n",
      " resume\r\n",
      " Resume1-1.pdf\r\n",
      " Resume1-2.pdf\r\n",
      " Resume1-3.pdf\r\n",
      " Resume1.doc\r\n",
      " Resume1.pdf\r\n",
      " SANTANU.pdf\r\n",
      "'SDC3 data description.pdf'\r\n",
      " sign1.jpg\r\n",
      " sign.jpg\r\n",
      " SKA1_Low_Configuration_V4a.pdf\r\n",
      " slack-desktop-4.32.122-amd64.deb\r\n",
      " SSHSecureShellClient-3.2.9.exe\r\n",
      " T166G89ApplicationForm.pdf\r\n",
      " T166G89PhotoId.pdf\r\n",
      " TGE\r\n",
      " thesis_sci_2019_sihlangu_isaac.pdf\r\n",
      "'The Williamson.pdf'\r\n",
      " thinkstats2.pdf\r\n",
      "'TIFR 2024.pdf'\r\n",
      "'Untitled spreadsheet(1).xlsx'\r\n",
      "'Untitled spreadsheet.xlsx'\r\n",
      "'uv covarage.png'\r\n",
      "'u-v-w coordinates for 100 points.png'\r\n",
      "'WhatsApp Image 2023-10-02 at 10.42.49 AM.jpeg'\r\n",
      " Wolfeetal2005ARAA43p861.pdf\r\n",
      " xrd.pdf\r\n"
     ]
    }
   ],
   "source": [
    "!ls"
   ]
  },
  {
   "cell_type": "markdown",
   "id": "5329d77a",
   "metadata": {},
   "source": []
  },
  {
   "cell_type": "markdown",
   "id": "0e4861ba",
   "metadata": {},
   "source": [
    "### "
   ]
  },
  {
   "cell_type": "code",
   "execution_count": null,
   "id": "c6967704",
   "metadata": {},
   "outputs": [],
   "source": []
  },
  {
   "cell_type": "code",
   "execution_count": null,
   "id": "9415d32c",
   "metadata": {},
   "outputs": [
    {
     "name": "stdout",
     "output_type": "stream",
     "text": [
      "[sudo] password for santanu-das: "
     ]
    },
    {
     "name": "stderr",
     "output_type": "stream",
     "text": [
      "IOStream.flush timed out\n"
     ]
    }
   ],
   "source": [
    "!sudo apt install python3-astropy"
   ]
  },
  {
   "cell_type": "code",
   "execution_count": 1,
   "id": "4294e611",
   "metadata": {},
   "outputs": [
    {
     "ename": "ModuleNotFoundError",
     "evalue": "No module named 'astropy'",
     "output_type": "error",
     "traceback": [
      "\u001b[0;31m---------------------------------------------------------------------------\u001b[0m",
      "\u001b[0;31mModuleNotFoundError\u001b[0m                       Traceback (most recent call last)",
      "Cell \u001b[0;32mIn[1], line 6\u001b[0m\n\u001b[1;32m      1\u001b[0m \u001b[38;5;66;03m# %load read_fits_new.py\u001b[39;00m\n\u001b[1;32m      2\u001b[0m \u001b[38;5;66;03m# By Dr. Akash Patwa, PhD, 007akashpatwa@gmail.com\u001b[39;00m\n\u001b[1;32m      3\u001b[0m \n\u001b[1;32m      4\u001b[0m \u001b[38;5;66;03m#Construction of exported visibility file (using exportuvfits) is in AIPS standard FITS format, Random group form (look in attached pdf by AIPS, AIPSMEM117.pdf).\u001b[39;00m\n\u001b[1;32m      5\u001b[0m \u001b[38;5;66;03m#Note: Indexing starts from 0 in any array or column\u001b[39;00m\n\u001b[0;32m----> 6\u001b[0m \u001b[38;5;28;01mimport\u001b[39;00m \u001b[38;5;21;01mastropy\u001b[39;00m\n\u001b[1;32m      7\u001b[0m \u001b[38;5;28;01mfrom\u001b[39;00m \u001b[38;5;21;01mastropy\u001b[39;00m\u001b[38;5;21;01m.\u001b[39;00m\u001b[38;5;21;01mtable\u001b[39;00m \u001b[38;5;28;01mimport\u001b[39;00m Table\n\u001b[1;32m      8\u001b[0m \u001b[38;5;28;01mfrom\u001b[39;00m \u001b[38;5;21;01mastropy\u001b[39;00m\u001b[38;5;21;01m.\u001b[39;00m\u001b[38;5;21;01mio\u001b[39;00m \u001b[38;5;28;01mimport\u001b[39;00m fits\n",
      "\u001b[0;31mModuleNotFoundError\u001b[0m: No module named 'astropy'"
     ]
    }
   ],
   "source": [
    "# %load read_fits_new.py\n",
    "# By Dr. Akash Patwa, PhD, 007akashpatwa@gmail.com\n",
    "\n",
    "#Construction of exported visibility file (using exportuvfits) is in AIPS standard FITS format, Random group form (look in attached pdf by AIPS, AIPSMEM117.pdf).\n",
    "#Note: Indexing starts from 0 in any array or column\n",
    "import astropy\n",
    "from astropy.table import Table\n",
    "from astropy.io import fits\n",
    "import numpy as np\n",
    "from matplotlib.colors import LogNorm\n",
    "import os\n",
    "\n",
    "# Set up matplotlib\n",
    "import matplotlib.pyplot as plt\n",
    "%matplotlib inline"
   ]
  },
  {
   "cell_type": "code",
   "execution_count": null,
   "id": "e6dfe720",
   "metadata": {},
   "outputs": [],
   "source": []
  },
  {
   "cell_type": "code",
   "execution_count": 4,
   "id": "faa58bfd",
   "metadata": {},
   "outputs": [],
   "source": [
    "#filename = \"/lfs1/usrscratch/phd/ph22d020/drift_ph2_day00/data_cutoff/1000009480.fits\"\n",
    "filename = \"/home/santanu-das/ZW3_IFRQ_0000.uvf\""
   ]
  },
  {
   "cell_type": "code",
   "execution_count": 5,
   "id": "6419ec7a",
   "metadata": {},
   "outputs": [
    {
     "data": {
      "text/plain": [
       "\"\\ndataT['UU'] = dataT['UU']*3.e8/wl\\t   # to convert in meters, works either in array form or Table form\\ndataT['VV'] = dataT['VV']*3.e8/wl      # to convert in meters, works either in array form or Table form\\ndataT['WW'] = dataT['WW']*3.e8/wl      # to convert in meters, works either in array form or Table form\\n\""
      ]
     },
     "execution_count": 5,
     "metadata": {},
     "output_type": "execute_result"
    }
   ],
   "source": [
    "#wl = 1.945  # wavelength\n",
    "#time_chunk = 11  # no. of integrations in each file\n",
    "\n",
    "#If we don't want to see header and other details of FITS file, we can directly get data as :\n",
    "#data = fits.getdata(filename)\n",
    "#dataT = Table(data) \t\t\t\t#to covert in Table form\n",
    "\n",
    "'''\n",
    "dataT['UU'] = dataT['UU']*3.e8/wl\t   # to convert in meters, works either in array form or Table form\n",
    "dataT['VV'] = dataT['VV']*3.e8/wl      # to convert in meters, works either in array form or Table form\n",
    "dataT['WW'] = dataT['WW']*3.e8/wl      # to convert in meters, works either in array form or Table form\n",
    "'''\n",
    "\n",
    "#bl = len(dataT['UU'])/time_chunk"
   ]
  },
  {
   "cell_type": "code",
   "execution_count": 6,
   "id": "f3687945",
   "metadata": {
    "scrolled": false
   },
   "outputs": [
    {
     "name": "stdout",
     "output_type": "stream",
     "text": [
      "3\n",
      "SIMPLE  =                    T / conforms to FITS standard                      BITPIX  =                  -32 / array data type                                NAXIS   =                    7 / number of array dimensions                     NAXIS1  =                    0                                                  NAXIS2  =                    3                                                  NAXIS3  =                    4                                                  NAXIS4  =                  768                                                  NAXIS5  =                    1                                                  NAXIS6  =                    1                                                  NAXIS7  =                    1                                                  EXTEND  =                    T                                                  GROUPS  =                    T / has groups                                     PCOUNT  =                    7 / number of parameters                           GCOUNT  =                86625 / number of groups                                                                                                               EPOCH   =               2000.0                                                  BSCALE  =                  1.0                                                  BZERO   =                  0.0                                                  BUNIT   = 'JY      '           / Bandpass calibrated                            CTYPE2  = 'COMPLEX '           / 1=real,2=imag,3=weight                         CRVAL2  =                  1.0                                                  CDELT2  =                  1.0                                                  CRPIX2  =                  1.0                                                  CROTA2  =                  0.0                                                  CTYPE3  = 'STOKES  '           / -1 to -4=RR,LL,RL,LR;-5 to -8=XX,YY,XY,YX      CRVAL3  =                 -5.0                                                  CDELT3  =                 -1.0                                                  CRPIX3  =                  1.0                                                  CROTA3  =                  0.0                                                  CTYPE4  = 'FREQ    '           / in Hz                                          CRVAL4  =          154255000.0                                                  CDELT4  =       40000.00000003                                                  CRPIX4  =                385.0                                                  CROTA4  =                  0.0                                                  CTYPE5  = 'IF      '                                                            CRVAL5  =                  1.0                                                  CDELT5  =                  1.0                                                  CRPIX5  =                  1.0                                                  CROTA5  =                  0.0                                                  CTYPE6  = 'RA      '           / in degrees                                     CRVAL6  =    28.65244444444444 / Mean RA of obsids                              CDELT6  =                  1.0                                                  CRPIX6  =                  1.0                                                  CROTA6  =                  0.0                                                  CTYPE7  = 'DEC     '           / in degrees                                     CRVAL7  =   -26.78333333333333 / Mean Dec of Obsids                             CDELT7  =                  1.0                                                  CRPIX7  =                  1.0                                                  CROTA7  =                  0.0                                                  PTYPE1  = 'UU      '                                                            PSCAL1  =                  1.0                                                  PZERO1  =                  0.0                                                  PTYPE2  = 'VV      '                                                            PSCAL2  =                  1.0                                                  PZERO2  =                  0.0                                                  PTYPE3  = 'WW      '                                                            PSCAL3  =                  1.0                                                  PZERO3  =                  0.0                                                  PTYPE4  = 'DATE    '                                                            PSCAL4  =                  1.0                                                  PZERO4  =                  0.0                                                  PTYPE5  = '_DATE   '                                                            PSCAL5  =                  1.0                                                  PZERO5  =                  0.0                                                  PTYPE6  = 'BASELINE'                                                            PSCAL6  =                  1.0                                                  PZERO6  =                  0.0                                                  PTYPE7  = 'FREQSEL '                                                            PSCAL7  =                  1.0                                                  PZERO7  =                  0.0                                                  OBJECT  = 'FDS_DEC-26.7'                                                        DATE-OBS= '2016-10-12T16:42:03.999999' / Last date. Obs-dates are in COMMENT.   TELESCOP= 'MWA     '                                                            INSTRUME= 'MWA     '                                                            MAKER   = 'Akash Patwa'                                                         SORTORD = 'TB      '                                                            SPECSYS = 'TOPOCENT'                                                            ORIGIN  = 'casacore '                                                           OBSIDS  = '' / Averaged Obsids are in COMMENT card.                             HISTORY AIPS WTSCAL = 1.0                                                       COMMENT Averaged Obsids are: [1159550256, 1159636424, 1159722584, 1159808752, 11COMMENT 59894912, 1159981080, 1160067240, 1160153408, 1160239568, 1160325736]   COMMENT Dates of Obsids are: ['2016-10-03T17:17:25.000001', '2016-10-04T17:13:32COMMENT .000000', '2016-10-05T17:09:32.000000', '2016-10-06T17:05:40.000000', '2COMMENT 016-10-07T17:01:40.000001', 0, '2016-10-09T16:53:48.000000', '2016-10-10COMMENT T16:49:56.000000', '2016-10-11T16:45:56.000000', '2016-10-12T16:42:03.99COMMENT 9999']                                                                  END                                                                                                                                                                                                                                                                                                                                                                                                                                                                                                                                                                                                                                                                                                                                                                                                                                                                                                                                                                                                                                                                                                                                                                                                                                                                                                                                                                                                                                                                                                                                                                                                                                                                                                                                             \n"
     ]
    }
   ],
   "source": [
    "hdulist = fits.open(filename)\n",
    "print(len(hdulist))\n",
    "#print(hdulist)\n",
    "\n",
    "#fits.info('1000009480.fits') \t\t\t\t#to check different headers\n",
    "print(hdulist[0].header) \t\t\t# Primary: to check info of primary header which has the desired data\n",
    "#print(hdulist[1].header)\t\t\t\t#AIPS FQ: contains info about frequency channels, central frequency, bandwidth etc.\n",
    "#print(hdulist[2].header)\t\t\t\t#AIPS AN: contains info about antenna names, telescope name etc\n",
    "#data = hdulist[0].data \t\t\t\t#to save visibilities in data\n",
    "#dataT = Table(data)     \t\t\t#to convert data from array form to table form, readable\n",
    "#hdulist.close()\n",
    "\n",
    "#dataT[0] #to access first row of the table, e.g. output\n",
    "#    UU           VV           WW          DATE       _DATE     BASELINE FREQSEL  SOURCE  INTTIM   DATA [1,1,1,48,4,3]\n",
    "#  float32      float32      float32      float32     float32   float32  float32 float32 float32       float32\n",
    "#------------ ------------ ------------ ----------- ----------- -------- ------- ------- ------- ------------------\n",
    "#    0.0          0.0          0.0     2.45663e+06   0.000520833  257.0     1.0     1.0     10.0        0.0 .. -11.4706\n",
    "\n",
    "#units and meaning of each column names are given in the attached pdf file, AIPSMEM117.pdf.\n",
    "#print dataT['UU']  \t\t\t\t\t#to print UU data (in light seconds), can be done for any other column\n",
    "#dataT['UU'] = dataT['UU']*3.e8\t      #to convert in meters, works either in array form or Table form\n",
    "\n",
    "# We can do manipulations of columns either in Table form or in array form, as done above. Manipulations done directly on array or column is faster than using loops.\n",
    "#Visibility data is usually stored in last column of hdulist[0].data or dataT. Visibility column is of dimansion (1x1x1x48x4x3), where\n",
    "#48 corresponds to number of channels available,\n",
    "#4 corresponds to different polarizations XX, YY, XY, and YX,\n",
    "#3 corresponds to (of XX, YY, XY, or YX) first; real part of visibility, 2nd; imaginary part of visibility, and 3rd: corresponding weighting\n",
    "\n",
    "#Note: Visibilities, XX, YY, XY, YX are not in polar form but in (a+ib) form."
   ]
  },
  {
   "cell_type": "code",
   "execution_count": 7,
   "id": "d6e8217c",
   "metadata": {},
   "outputs": [],
   "source": [
    "freq0 = hdulist[0].header['CRVAL4'] "
   ]
  },
  {
   "cell_type": "code",
   "execution_count": 8,
   "id": "2af20cdb",
   "metadata": {},
   "outputs": [],
   "source": [
    "#print(hdulist[1].header)"
   ]
  },
  {
   "cell_type": "code",
   "execution_count": 9,
   "id": "1166d27c",
   "metadata": {},
   "outputs": [],
   "source": [
    "#print(hdulist[2].header)"
   ]
  },
  {
   "cell_type": "code",
   "execution_count": 10,
   "id": "01f3c5ce",
   "metadata": {},
   "outputs": [],
   "source": [
    "data = hdulist[0].data"
   ]
  },
  {
   "cell_type": "code",
   "execution_count": 11,
   "id": "69485a91",
   "metadata": {},
   "outputs": [],
   "source": [
    "#data[0]"
   ]
  },
  {
   "cell_type": "code",
   "execution_count": 12,
   "id": "039d8075",
   "metadata": {},
   "outputs": [],
   "source": [
    "dataT = Table(data)"
   ]
  },
  {
   "cell_type": "code",
   "execution_count": 13,
   "id": "e958d8d7",
   "metadata": {},
   "outputs": [],
   "source": [
    "#print(dataT['UU'])"
   ]
  },
  {
   "cell_type": "code",
   "execution_count": 14,
   "id": "761bc649",
   "metadata": {},
   "outputs": [
    {
     "name": "stdout",
     "output_type": "stream",
     "text": [
      "(86625, 1, 1, 1, 768, 4, 3)\n"
     ]
    }
   ],
   "source": [
    "print(dataT['DATA'].shape)"
   ]
  },
  {
   "cell_type": "code",
   "execution_count": 15,
   "id": "8e325ef7",
   "metadata": {
    "scrolled": false
   },
   "outputs": [],
   "source": [
    "#print(dataT['VV'])"
   ]
  },
  {
   "cell_type": "code",
   "execution_count": 16,
   "id": "8682b4b0",
   "metadata": {
    "scrolled": false
   },
   "outputs": [
    {
     "data": {
      "text/html": [
       "<i>Table length=86625</i>\n",
       "<table id=\"table47007686215184\" class=\"table-striped table-bordered table-condensed\">\n",
       "<thead><tr><th>UU</th><th>VV</th><th>WW</th><th>DATE</th><th>_DATE</th><th>BASELINE</th><th>FREQSEL</th><th>DATA [1,1,1,768,4,3]</th></tr></thead>\n",
       "<thead><tr><th>float32</th><th>float32</th><th>float32</th><th>float32</th><th>float32</th><th>float32</th><th>float32</th><th>float32</th></tr></thead>\n",
       "<tr><td>-1.8151471e-07</td><td>-1.4728191e-08</td><td>-8.6080676e-10</td><td>2457674.0</td><td>0.19587962</td><td>258.0</td><td>1.0</td><td>0.49948058 .. -1.611904</td></tr>\n",
       "<tr><td>-2.0438443e-07</td><td>-8.460011e-10</td><td>-9.335367e-10</td><td>2457674.0</td><td>0.19587962</td><td>259.0</td><td>1.0</td><td>0.20952359 .. -1.9506866</td></tr>\n",
       "<tr><td>-2.3713966e-07</td><td>2.4446575e-08</td><td>-8.6285046e-10</td><td>2457674.0</td><td>0.19587962</td><td>260.0</td><td>1.0</td><td>-0.08158925 .. -2.2677088</td></tr>\n",
       "<tr><td>-2.0967269e-07</td><td>5.7753866e-08</td><td>-1.0298896e-09</td><td>2457674.0</td><td>0.19587962</td><td>261.0</td><td>1.0</td><td>-0.052163962 .. -2.2444112</td></tr>\n",
       "<tr><td>-1.5836491e-07</td><td>7.234965e-08</td><td>-7.7438417e-10</td><td>2457674.0</td><td>0.19587962</td><td>262.0</td><td>1.0</td><td>-0.19866532 .. -1.6699513</td></tr>\n",
       "<tr><td>-1.883202e-07</td><td>7.836099e-08</td><td>-8.0529833e-10</td><td>2457674.0</td><td>0.19587962</td><td>263.0</td><td>1.0</td><td>-0.027097551 .. -1.8600729</td></tr>\n",
       "<tr><td>-4.969184e-09</td><td>1.5191137e-07</td><td>-6.701095e-10</td><td>2457674.0</td><td>0.19587962</td><td>264.0</td><td>1.0</td><td>0.19439828 .. -1.7394903</td></tr>\n",
       "<tr><td>-5.614957e-08</td><td>-5.6071503e-08</td><td>4.4503207e-11</td><td>2457674.0</td><td>0.19587962</td><td>265.0</td><td>1.0</td><td>0.19099343 .. -1.3743129</td></tr>\n",
       "<tr><td>-3.3058296e-08</td><td>-3.2327485e-08</td><td>-1.4806672e-11</td><td>2457674.0</td><td>0.19587962</td><td>266.0</td><td>1.0</td><td>-0.003983986 .. -1.9274487</td></tr>\n",
       "<tr><td>-8.707195e-08</td><td>-6.357692e-08</td><td>-1.06636734e-10</td><td>2457674.0</td><td>0.19587962</td><td>267.0</td><td>1.0</td><td>0.0077392594 .. -1.758534</td></tr>\n",
       "<tr><td>...</td><td>...</td><td>...</td><td>...</td><td>...</td><td>...</td><td>...</td><td>...</td></tr>\n",
       "<tr><td>1.6356252e-07</td><td>4.0009983e-08</td><td>-2.2797944e-09</td><td>2457674.0</td><td>0.19703703</td><td>31869.0</td><td>1.0</td><td>0.02183818 .. -5.387278</td></tr>\n",
       "<tr><td>1.16850174e-07</td><td>4.0140847e-08</td><td>-1.6614449e-09</td><td>2457674.0</td><td>0.19703703</td><td>31870.0</td><td>1.0</td><td>-0.43447208 .. -6.2359877</td></tr>\n",
       "<tr><td>7.015501e-08</td><td>4.0198245e-08</td><td>-9.431483e-10</td><td>2457674.0</td><td>0.19703703</td><td>31871.0</td><td>1.0</td><td>0.13103293 .. -5.955209</td></tr>\n",
       "<tr><td>2.3476922e-08</td><td>4.0325684e-08</td><td>-1.9157537e-10</td><td>2457674.0</td><td>0.19703703</td><td>31872.0</td><td>1.0</td><td>0.17659259 .. -5.231348</td></tr>\n",
       "<tr><td>-4.6712344e-08</td><td>1.3086213e-10</td><td>6.183492e-10</td><td>2457674.0</td><td>0.19703703</td><td>32126.0</td><td>1.0</td><td>0.055566598 .. -5.365148</td></tr>\n",
       "<tr><td>-9.3407515e-08</td><td>1.8825813e-10</td><td>1.3366458e-09</td><td>2457674.0</td><td>0.19703703</td><td>32127.0</td><td>1.0</td><td>0.0021472266 .. -5.12384</td></tr>\n",
       "<tr><td>-1.4008558e-07</td><td>3.156969e-10</td><td>2.0882187e-09</td><td>2457674.0</td><td>0.19703703</td><td>32128.0</td><td>1.0</td><td>0.13197704 .. -4.500936</td></tr>\n",
       "<tr><td>-4.6695163e-08</td><td>5.7396015e-11</td><td>7.1829653e-10</td><td>2457674.0</td><td>0.19703703</td><td>32383.0</td><td>1.0</td><td>0.05650394 .. -6.5507164</td></tr>\n",
       "<tr><td>-9.337325e-08</td><td>1.8483477e-10</td><td>1.4698696e-09</td><td>2457674.0</td><td>0.19703703</td><td>32384.0</td><td>1.0</td><td>0.0038900098 .. -5.754381</td></tr>\n",
       "<tr><td>-4.6678093e-08</td><td>1.2743875e-10</td><td>7.5157297e-10</td><td>2457674.0</td><td>0.19703703</td><td>32640.0</td><td>1.0</td><td>0.054996654 .. -6.294198</td></tr>\n",
       "</table>"
      ],
      "text/plain": [
       "<Table length=86625>\n",
       "      UU             VV       ... FREQSEL    DATA [1,1,1,768,4,3]   \n",
       "   float32        float32     ... float32          float32          \n",
       "-------------- -------------- ... ------- --------------------------\n",
       "-1.8151471e-07 -1.4728191e-08 ...     1.0    0.49948058 .. -1.611904\n",
       "-2.0438443e-07  -8.460011e-10 ...     1.0   0.20952359 .. -1.9506866\n",
       "-2.3713966e-07  2.4446575e-08 ...     1.0  -0.08158925 .. -2.2677088\n",
       "-2.0967269e-07  5.7753866e-08 ...     1.0 -0.052163962 .. -2.2444112\n",
       "-1.5836491e-07   7.234965e-08 ...     1.0  -0.19866532 .. -1.6699513\n",
       " -1.883202e-07   7.836099e-08 ...     1.0 -0.027097551 .. -1.8600729\n",
       " -4.969184e-09  1.5191137e-07 ...     1.0   0.19439828 .. -1.7394903\n",
       " -5.614957e-08 -5.6071503e-08 ...     1.0   0.19099343 .. -1.3743129\n",
       "-3.3058296e-08 -3.2327485e-08 ...     1.0 -0.003983986 .. -1.9274487\n",
       " -8.707195e-08  -6.357692e-08 ...     1.0  0.0077392594 .. -1.758534\n",
       "           ...            ... ...     ...                        ...\n",
       " 1.6356252e-07  4.0009983e-08 ...     1.0    0.02183818 .. -5.387278\n",
       "1.16850174e-07  4.0140847e-08 ...     1.0  -0.43447208 .. -6.2359877\n",
       "  7.015501e-08  4.0198245e-08 ...     1.0    0.13103293 .. -5.955209\n",
       " 2.3476922e-08  4.0325684e-08 ...     1.0    0.17659259 .. -5.231348\n",
       "-4.6712344e-08  1.3086213e-10 ...     1.0   0.055566598 .. -5.365148\n",
       "-9.3407515e-08  1.8825813e-10 ...     1.0   0.0021472266 .. -5.12384\n",
       "-1.4008558e-07   3.156969e-10 ...     1.0    0.13197704 .. -4.500936\n",
       "-4.6695163e-08  5.7396015e-11 ...     1.0   0.05650394 .. -6.5507164\n",
       " -9.337325e-08  1.8483477e-10 ...     1.0  0.0038900098 .. -5.754381\n",
       "-4.6678093e-08  1.2743875e-10 ...     1.0   0.054996654 .. -6.294198"
      ]
     },
     "execution_count": 16,
     "metadata": {},
     "output_type": "execute_result"
    }
   ],
   "source": [
    "dataT"
   ]
  },
  {
   "cell_type": "code",
   "execution_count": 17,
   "id": "0fe6e23d",
   "metadata": {},
   "outputs": [],
   "source": [
    "UU = dataT['UU']*freq0 #for baseline unit   #*3.e8 (for meter unit)\n",
    "VV = dataT['VV']*freq0   "
   ]
  },
  {
   "cell_type": "code",
   "execution_count": 18,
   "id": "e4f663a0",
   "metadata": {
    "scrolled": false
   },
   "outputs": [
    {
     "data": {
      "text/plain": [
       "Text(0, 0.5, 'VV')"
      ]
     },
     "execution_count": 18,
     "metadata": {},
     "output_type": "execute_result"
    },
    {
     "data": {
      "image/png": "[encoded data removed]",
      "text/plain": [
       "<Figure size 1080x864 with 1 Axes>"
      ]
     },
     "metadata": {
      "needs_background": "light"
     },
     "output_type": "display_data"
    }
   ],
   "source": [
    "plt.figure(figsize=(15,12)) \n",
    "plt.plot(UU, VV,'.', color = 'red')\n",
    "\n",
    "plt.xlabel(\"UU\", fontsize = 20)\n",
    "plt.ylabel(\"VV\", fontsize = 20)"
   ]
  },
  {
   "cell_type": "code",
   "execution_count": 19,
   "id": "9ada901c",
   "metadata": {},
   "outputs": [],
   "source": [
    "#print(dataT['DATA'].shape)"
   ]
  },
  {
   "cell_type": "code",
   "execution_count": 20,
   "id": "0fd1b979",
   "metadata": {},
   "outputs": [],
   "source": [
    "bl = 100\n",
    "pol = 0\n",
    "vis_allfreq_XX_re = dataT['DATA'][bl,0,0,0,:,pol,0] #array with 768R & 7C\n",
    "vis_allfreq_XX_im = dataT['DATA'][bl,0,0,0,:,pol,1] #array with 768R & 7C\n"
   ]
  },
  {
   "cell_type": "code",
   "execution_count": 21,
   "id": "6fcb3804",
   "metadata": {},
   "outputs": [
    {
     "data": {
      "text/plain": [
       "(768,)"
      ]
     },
     "execution_count": 21,
     "metadata": {},
     "output_type": "execute_result"
    }
   ],
   "source": [
    "vis_allfreq_XX_im.shape"
   ]
  },
  {
   "cell_type": "code",
   "execution_count": 22,
   "id": "d05e00dc",
   "metadata": {},
   "outputs": [],
   "source": [
    "pix   = hdulist[0].header['CRPIX4']\n",
    "delta = hdulist[0].header['CDELT4']\n",
    "mfreq =  hdulist[0].header['CRVAL4']\n",
    "nfreq = hdulist[0].header['NAXIS4']"
   ]
  },
  {
   "cell_type": "code",
   "execution_count": 23,
   "id": "99786fba",
   "metadata": {
    "scrolled": true
   },
   "outputs": [],
   "source": [
    "idx = np.arange(nfreq)\n",
    "freqs = (idx - pix) * delta + mfreq"
   ]
  },
  {
   "cell_type": "code",
   "execution_count": 24,
   "id": "98bfc19f",
   "metadata": {},
   "outputs": [],
   "source": [
    "#def f_N(N):\n",
    "      \n",
    " #    Q = (((N - pix)*delta) + mfreq)\n",
    "    \n",
    " #    return(Q)   \n",
    "    \n",
    "#print(f_N(767))\n",
    "#Freq_N = np.zeros(768)   \n",
    "\n",
    "#for i in range(len(Freq_N)):\n",
    "\n",
    "#        Freq_N[i] = f_N(i)"
   ]
  },
  {
   "cell_type": "code",
   "execution_count": 25,
   "id": "6b7a2d22",
   "metadata": {},
   "outputs": [],
   "source": [
    "#plt.figure(figsize=(15,12))\n",
    "#plt.plot(freqs,vis_allfreq_XX_re)\n",
    "#plt.plot(freqs,vis_allfreq_XX_im)\n",
    "#plt.legend([\"Re\", \"Im\"], loc =\"lower right\",prop = {'size' : 20})\n",
    "#plt.xlabel('Freq (Hz)',fontsize = 20)\n",
    "#plt.ylabel('Vis',fontsize = 20)'''"
   ]
  },
  {
   "cell_type": "code",
   "execution_count": 26,
   "id": "75240995",
   "metadata": {
    "scrolled": false
   },
   "outputs": [
    {
     "data": {
      "image/png": "[encoded data removed]",
      "text/plain": [
       "<Figure size 1440x504 with 2 Axes>"
      ]
     },
     "metadata": {
      "needs_background": "light"
     },
     "output_type": "display_data"
    }
   ],
   "source": [
    "fig, ax = plt.subplots(1, 2, figsize=(20, 7))\n",
    "\n",
    "freqs = (idx - pix) * delta + mfreq\n",
    "\n",
    "bl = 500; pol = 0\n",
    "vis_allfreq_XX_re = dataT['DATA'][bl,0,0,0,:,pol,0] #array with 768R & 7C\n",
    "vis_allfreq_XX_im = dataT['DATA'][bl,0,0,0,:,pol,1] #array with 768R & 7C\n",
    "vis_allfreq_XX_wt = dataT['DATA'][bl,0,0,0,:,pol,2] \n",
    "\n",
    "\n",
    "vis_allfreq_XX_re = vis_allfreq_XX_re[vis_allfreq_XX_wt > 0.]\n",
    "vis_allfreq_XX_im = vis_allfreq_XX_im[vis_allfreq_XX_wt > 0.]\n",
    "freqs = freqs[vis_allfreq_XX_wt > 0.]\n",
    "\n",
    "ax[0].plot(freqs,vis_allfreq_XX_re,label = 'Re')\n",
    "ax[0].plot(freqs,vis_allfreq_XX_im, label = 'Im')\n",
    "\n",
    "#ax[0].set_xlim([0.,np.rad2deg(1.)])\n",
    "ax[0].set_ylabel('Vis', fontsize=15,labelpad=10)\n",
    "#ax[0].text(1.55e8, -150,r'XX ; bl = 500', fontsize=20)\n",
    "#ax[0].text(1.45e8, -150,r'cutoff', fontsize=20)\n",
    "ax[0].set_xlabel(r'Fre(Hz)', fontsize=15)\n",
    "#ax[0].set_yscale('log')\n",
    "ax[0].legend(fontsize=15)\n",
    "ax[0].tick_params(axis='both', which='major', labelsize=18, size=8., width=1.5, pad=8.)\n",
    "ax[0].tick_params(axis='both', which='minor', labelsize=18, size=5., width=1.5, pad=8.)\n",
    "\n",
    "\n",
    "\n",
    "freqs = (idx - pix) * delta + mfreq\n",
    "bl = 500; pol = 1\n",
    "vis_allfreq_YY_re = dataT['DATA'][bl,0,0,0,:,pol,0] #array with 768R & 7C\n",
    "vis_allfreq_YY_im = dataT['DATA'][bl,0,0,0,:,pol,1] #array with 768R & 7C\n",
    "vis_allfreq_YY_wt = dataT['DATA'][bl,0,0,0,:,pol,2] \n",
    "\n",
    "\n",
    "vis_allfreq_YY_re = vis_allfreq_YY_re[vis_allfreq_YY_wt > 0.]\n",
    "vis_allfreq_YY_im = vis_allfreq_YY_im[vis_allfreq_YY_wt > 0.]\n",
    "freqs = freqs[vis_allfreq_YY_wt > 0.]\n",
    "\n",
    "ax[1].plot(freqs,vis_allfreq_YY_re,label = 'Re')\n",
    "ax[1].plot(freqs,vis_allfreq_YY_im, label = 'Im')\n",
    "#ax[1].text(1.55e8, 120 ,r'YY ; bl = 500' + os.linesep + 'cutoff', fontsize=20)\n",
    "ax[1].set_ylabel('Vis', fontsize=16)\n",
    "ax[1].set_xlabel(r'Fre(Hz)]', fontsize=15)\n",
    "#ax[1].set_yscale('log')\n",
    "ax[1].legend(fontsize=15)\n",
    "ax[1].tick_params(axis='both', which='major', labelsize=18, size=8., width=1.5, pad=8.)\n",
    "ax[1].tick_params(axis='both', which='minor', labelsize=18, size=5., width=1.5, pad=8.)\n",
    "\n",
    "\n",
    "'''freqs = (idx - pix) * delta + mfreq\n",
    "bl = 100; pol = 2\n",
    "vis_allfreq_XX_re = dataT['DATA'][bl,0,0,0,:,pol,0] #array with 768R & 7C\n",
    "vis_allfreq_XX_im = dataT['DATA'][bl,0,0,0,:,pol,1] #array with 768R & 7C\n",
    "vis_allfreq_XX_wt = dataT['DATA'][bl,0,0,0,:,pol,2] \n",
    "\n",
    "\n",
    "vis_allfreq_XX_re = vis_allfreq_XX_re[vis_allfreq_XX_wt > 0.]\n",
    "vis_allfreq_XX_im = vis_allfreq_XX_im[vis_allfreq_XX_wt > 0.]\n",
    "freqs = freqs[vis_allfreq_XX_wt > 0.]\n",
    "\n",
    "ax[1,0].plot(freqs,vis_allfreq_XX_re,label = 'Re')\n",
    "ax[1,0].plot(freqs,vis_allfreq_XX_im, label = 'Im')\n",
    "\n",
    "#ax[1,0].set_xlim([0.,np.rad2deg(1.)])\n",
    "ax[1,0].set_ylabel('Vis', fontsize=15,labelpad=10)\n",
    "#ax[1,0].text(2, 0.5e-3,r'Symmetric beam', fontsize=20)\n",
    "ax[1,0].set_xlabel(r'Freq(Hz)', fontsize=15)\n",
    "#ax[1,0].set_yscale('log')\n",
    "ax[1,0].legend(fontsize=15)\n",
    "ax[1,0].tick_params(axis='both', which='major', labelsize=18, size=8., width=1.5, pad=8.)\n",
    "ax[1,0].tick_params(axis='both', which='minor', labelsize=18, size=5., width=1.5, pad=8.)\n",
    "\n",
    "\n",
    "freqs = (idx - pix) * delta + mfreq\n",
    "bl = 100; pol = 3\n",
    "vis_allfreq_XX_re = dataT['DATA'][bl,0,0,0,:,pol,0] #array with 768R & 7C\n",
    "vis_allfreq_XX_im = dataT['DATA'][bl,0,0,0,:,pol,1] #array with 768R & 7C\n",
    "vis_allfreq_XX_wt = dataT['DATA'][bl,0,0,0,:,pol,2] \n",
    "\n",
    "\n",
    "vis_allfreq_XX_re = vis_allfreq_XX_re[vis_allfreq_XX_wt > 0.]\n",
    "vis_allfreq_XX_im = vis_allfreq_XX_im[vis_allfreq_XX_wt > 0.]\n",
    "freqs = freqs[vis_allfreq_XX_wt > 0.]\n",
    "\n",
    "\n",
    "ax[1,1].plot(freqs,vis_allfreq_XX_re,label = 'Re')\n",
    "ax[1,1].plot(freqs,vis_allfreq_XX_im, label = 'Im')\n",
    "\n",
    "#ax[1,1].set_xlim([0.,np.rad2deg(1.)])\n",
    "ax[1,1].set_ylabel('Vis', fontsize=15,labelpad=10)\n",
    "#ax[1,1].text(2, 0.5e-3,r'Symmetric beam', fontsize=20)\n",
    "ax[1,1].set_xlabel(r'Freq(Hz)', fontsize=15)\n",
    "#ax[1,1].set_yscale('log')\n",
    "ax[1,1].legend(fontsize=15)\n",
    "ax[1,1].tick_params(axis='both', which='major', labelsize=18, size=8., width=1.5, pad=8.)\n",
    "ax[1,1].tick_params(axis='both', which='minor', labelsize=18, size=5., width=1.5, pad=8.)'''\n",
    "\n",
    "plt.savefig('bl = 500; cutoff.pdf',bbox_inches='tight')"
   ]
  },
  {
   "cell_type": "code",
   "execution_count": 27,
   "id": "8f4c73f5",
   "metadata": {},
   "outputs": [
    {
     "data": {
      "image/png": "[encoded data removed]",
      "text/plain": [
       "<Figure size 1440x504 with 2 Axes>"
      ]
     },
     "metadata": {
      "needs_background": "light"
     },
     "output_type": "display_data"
    }
   ],
   "source": [
    "fig, ax = plt.subplots(1, 2, figsize=(20, 7))\n",
    "\n",
    "freqs = (idx - pix) * delta + mfreq\n",
    "\n",
    "bl = 10000; pol = 0\n",
    "vis_allfreq_XX_re = dataT['DATA'][bl,0,0,0,:,pol,0] #array with 768R & 7C\n",
    "vis_allfreq_XX_im = dataT['DATA'][bl,0,0,0,:,pol,1] #array with 768R & 7C\n",
    "vis_allfreq_XX_wt = dataT['DATA'][bl,0,0,0,:,pol,2] \n",
    "\n",
    "\n",
    "vis_allfreq_XX_re = vis_allfreq_XX_re[vis_allfreq_XX_wt > 0.]\n",
    "vis_allfreq_XX_im = vis_allfreq_XX_im[vis_allfreq_XX_wt > 0.]\n",
    "freqs = freqs[vis_allfreq_XX_wt > 0.]\n",
    "\n",
    "ax[0].plot(freqs,vis_allfreq_XX_re,label = 'Re')\n",
    "ax[0].plot(freqs,vis_allfreq_XX_im, label = 'Im')\n",
    "\n",
    "#ax[0].set_xlim([0.,np.rad2deg(1.)])\n",
    "ax[0].set_ylabel('Vis', fontsize=15,labelpad=10)\n",
    "#ax[0].text(1.50e8, 200,r'XX ; bl = 10000 ', fontsize=20)\n",
    "#ax[0].text(1.50e8, -150,r'cutoff', fontsize=20)\n",
    "ax[0].set_xlabel(r'Fre(Hz)', fontsize=15)\n",
    "#ax[0].set_yscale('log')\n",
    "ax[0].legend(fontsize=15)\n",
    "ax[0].tick_params(axis='both', which='major', labelsize=18, size=8., width=1.5, pad=8.)\n",
    "ax[0].tick_params(axis='both', which='minor', labelsize=18, size=5., width=1.5, pad=8.)\n",
    "\n",
    "freqs = (idx - pix) * delta + mfreq\n",
    "bl = 10000; pol = 1\n",
    "vis_allfreq_YY_re = dataT['DATA'][bl,0,0,0,:,pol,0] #array with 768R & 7C\n",
    "vis_allfreq_YY_im = dataT['DATA'][bl,0,0,0,:,pol,1] #array with 768R & 7C\n",
    "vis_allfreq_YY_wt = dataT['DATA'][bl,0,0,0,:,pol,2] \n",
    "\n",
    "\n",
    "vis_allfreq_YY_re = vis_allfreq_YY_re[vis_allfreq_YY_wt > 0.]\n",
    "vis_allfreq_YY_im = vis_allfreq_YY_im[vis_allfreq_YY_wt > 0.]\n",
    "freqs = freqs[vis_allfreq_YY_wt > 0.]\n",
    "\n",
    "ax[1].plot(freqs,vis_allfreq_YY_re,label = 'Re')\n",
    "ax[1].plot(freqs,vis_allfreq_YY_im, label = 'Im')\n",
    "#ax[1].text(1.455e8, -160,r'YY ; bl = 10000' + os.linesep + 'cutoff', fontsize=20)\n",
    "ax[1].set_ylabel('Vis', fontsize=16)\n",
    "ax[1].set_xlabel(r'Fre(Hz)]', fontsize=15)\n",
    "#ax[1].set_yscale('log')\n",
    "ax[1].legend(fontsize=15)\n",
    "ax[1].tick_params(axis='both', which='major', labelsize=18, size=8., width=1.5, pad=8.)\n",
    "ax[1].tick_params(axis='both', which='minor', labelsize=18, size=5., width=1.5, pad=8.)\n",
    "\n",
    "\n",
    "'''freqs = (idx - pix) * delta + mfreq\n",
    "bl = 10000; pol = 2\n",
    "vis_allfreq_XX_re = dataT['DATA'][bl,0,0,0,:,pol,0] #array with 768R & 7C\n",
    "vis_allfreq_XX_im = dataT['DATA'][bl,0,0,0,:,pol,1] #array with 768R & 7C\n",
    "vis_allfreq_XX_wt = dataT['DATA'][bl,0,0,0,:,pol,2] \n",
    "\n",
    "\n",
    "vis_allfreq_XX_re = vis_allfreq_XX_re[vis_allfreq_XX_wt > 0.]\n",
    "vis_allfreq_XX_im = vis_allfreq_XX_im[vis_allfreq_XX_wt > 0.]\n",
    "freqs = freqs[vis_allfreq_XX_wt > 0.]\n",
    "\n",
    "ax[1,0].plot(freqs,vis_allfreq_XX_re,label = 'Re')\n",
    "ax[1,0].plot(freqs,vis_allfreq_XX_im, label = 'Im')\n",
    "\n",
    "#ax[1,0].set_xlim([0.,np.rad2deg(1.)])\n",
    "ax[1,0].set_ylabel('Vis', fontsize=15,labelpad=10)\n",
    "#ax[1,0].text(2, 0.5e-3,r'Symmetric beam', fontsize=20)\n",
    "ax[1,0].set_xlabel(r'Freq(Hz)', fontsize=15)\n",
    "#ax[1,0].set_yscale('log')\n",
    "ax[1,0].legend(fontsize=15)\n",
    "ax[1,0].tick_params(axis='both', which='major', labelsize=18, size=8., width=1.5, pad=8.)\n",
    "ax[1,0].tick_params(axis='both', which='minor', labelsize=18, size=5., width=1.5, pad=8.)\n",
    "\n",
    "\n",
    "freqs = (idx - pix) * delta + mfreq\n",
    "bl = 10000; pol = 3\n",
    "vis_allfreq_XX_re = dataT['DATA'][bl,0,0,0,:,pol,0] #array with 768R & 7C\n",
    "vis_allfreq_XX_im = dataT['DATA'][bl,0,0,0,:,pol,1] #array with 768R & 7C\n",
    "vis_allfreq_XX_wt = dataT['DATA'][bl,0,0,0,:,pol,2] \n",
    "\n",
    "\n",
    "vis_allfreq_XX_re = vis_allfreq_XX_re[vis_allfreq_XX_wt > 0.]\n",
    "vis_allfreq_XX_im = vis_allfreq_XX_im[vis_allfreq_XX_wt > 0.]\n",
    "freqs = freqs[vis_allfreq_XX_wt > 0.]\n",
    "\n",
    "\n",
    "ax[1,1].plot(freqs,vis_allfreq_XX_re,label = 'Re')\n",
    "ax[1,1].plot(freqs,vis_allfreq_XX_im, label = 'Im')\n",
    "\n",
    "#ax[1,1].set_xlim([0.,np.rad2deg(1.)])\n",
    "ax[1,1].set_ylabel('Vis', fontsize=15,labelpad=10)\n",
    "#ax[1,1].text(2, 0.5e-3,r'Symmetric beam', fontsize=20)\n",
    "ax[1,1].set_xlabel(r'Freq(Hz)', fontsize=15)\n",
    "#ax[1,1].set_yscale('log')\n",
    "ax[1,1].legend(fontsize=15)\n",
    "ax[1,1].tick_params(axis='both', which='major', labelsize=18, size=8., width=1.5, pad=8.)\n",
    "ax[1,1].tick_params(axis='both', which='minor', labelsize=18, size=5., width=1.5, pad=8.)'''\n",
    "\n",
    "plt.savefig('bl = 10000; cutoff.pdf',bbox_inches='tight')"
   ]
  },
  {
   "cell_type": "code",
   "execution_count": 28,
   "id": "c7c67b48",
   "metadata": {},
   "outputs": [
    {
     "data": {
      "image/png": "[encoded data removed]",
      "text/plain": [
       "<Figure size 1440x576 with 2 Axes>"
      ]
     },
     "metadata": {
      "needs_background": "light"
     },
     "output_type": "display_data"
    }
   ],
   "source": [
    "fig, ax = plt.subplots(1, 2, figsize=(20, 8))\n",
    "\n",
    "freqs = (idx - pix) * delta + mfreq\n",
    "\n",
    "bl = 30000; pol = 0\n",
    "vis_allfreq_XX_re = dataT['DATA'][bl,0,0,0,:,pol,0] #array with 768R & 7C\n",
    "vis_allfreq_XX_im = dataT['DATA'][bl,0,0,0,:,pol,1] #array with 768R & 7C\n",
    "vis_allfreq_XX_wt = dataT['DATA'][bl,0,0,0,:,pol,2] \n",
    "\n",
    "\n",
    "vis_allfreq_XX_re = vis_allfreq_XX_re[vis_allfreq_XX_wt > 0.]\n",
    "vis_allfreq_XX_im = vis_allfreq_XX_im[vis_allfreq_XX_wt > 0.]\n",
    "freqs = freqs[vis_allfreq_XX_wt > 0.]\n",
    "\n",
    "ax[0].plot(freqs,vis_allfreq_XX_re,label = 'Re')\n",
    "ax[0].plot(freqs,vis_allfreq_XX_im, label = 'Im')\n",
    "\n",
    "#ax[0].set_xlim([0.,np.rad2deg(1.)])\n",
    "ax[0].set_ylabel('Vis', fontsize=15,labelpad=10)\n",
    "#ax[0].text(1.40e8, -70,r'XX' + os.linesep + 'bl = 30000' + os.linesep + 'cutoff', fontsize=20)\n",
    "ax[0].set_xlabel(r'Fre(Hz)', fontsize=15)\n",
    "#ax[0].set_yscale('log')\n",
    "ax[0].legend(fontsize=15)\n",
    "ax[0].tick_params(axis='both', which='major', labelsize=18, size=8., width=1.5, pad=8.)\n",
    "ax[0].tick_params(axis='both', which='minor', labelsize=18, size=5., width=1.5, pad=8.)\n",
    "\n",
    "freqs = (idx - pix) * delta + mfreq\n",
    "bl = 30000; pol = 1\n",
    "vis_allfreq_XX_re = dataT['DATA'][bl,0,0,0,:,pol,0] #array with 768R & 7C\n",
    "vis_allfreq_XX_im = dataT['DATA'][bl,0,0,0,:,pol,1] #array with 768R & 7C\n",
    "vis_allfreq_XX_wt = dataT['DATA'][bl,0,0,0,:,pol,2] \n",
    "\n",
    "\n",
    "vis_allfreq_XX_re = vis_allfreq_XX_re[vis_allfreq_XX_wt > 0.]\n",
    "vis_allfreq_XX_im = vis_allfreq_XX_im[vis_allfreq_XX_wt > 0.]\n",
    "freqs = freqs[vis_allfreq_XX_wt > 0.]\n",
    "\n",
    "ax[1].plot(freqs,vis_allfreq_XX_re,label = 'Re')\n",
    "ax[1].plot(freqs,vis_allfreq_XX_im, label = 'Im')\n",
    "#ax[1].text(1.40e8, -80,r'YY' + os.linesep + 'bl = 30000' + os.linesep + 'cutoff', fontsize=20)\n",
    "ax[1].set_ylabel('Vis', fontsize=16)\n",
    "ax[1].set_xlabel(r'Fre(Hz)]', fontsize=15)\n",
    "#ax[1].set_yscale('log')\n",
    "ax[1].legend(fontsize=15)\n",
    "ax[1].tick_params(axis='both', which='major', labelsize=18, size=8., width=1.5, pad=8.)\n",
    "ax[1].tick_params(axis='both', which='minor', labelsize=18, size=5., width=1.5, pad=8.)\n",
    "\n",
    "\n",
    "'''freqs = (idx - pix) * delta + mfreq\n",
    "bl = 30000; pol = 2\n",
    "vis_allfreq_XX_re = dataT['DATA'][bl,0,0,0,:,pol,0] #array with 768R & 7C\n",
    "vis_allfreq_XX_im = dataT['DATA'][bl,0,0,0,:,pol,1] #array with 768R & 7C\n",
    "vis_allfreq_XX_wt = dataT['DATA'][bl,0,0,0,:,pol,2] \n",
    "\n",
    "\n",
    "vis_allfreq_XX_re = vis_allfreq_XX_re[vis_allfreq_XX_wt > 0.]\n",
    "vis_allfreq_XX_im = vis_allfreq_XX_im[vis_allfreq_XX_wt > 0.]\n",
    "freqs = freqs[vis_allfreq_XX_wt > 0.]\n",
    "\n",
    "ax[1,0].plot(freqs,vis_allfreq_XX_re,label = 'Re')\n",
    "ax[1,0].plot(freqs,vis_allfreq_XX_im, label = 'Im')\n",
    "\n",
    "#ax[1,0].set_xlim([0.,np.rad2deg(1.)])\n",
    "ax[1,0].set_ylabel('Vis', fontsize=15,labelpad=10)\n",
    "#ax[1,0].text(2, 0.5e-3,r'Symmetric beam', fontsize=20)\n",
    "ax[1,0].set_xlabel(r'Freq(Hz)', fontsize=15)\n",
    "#ax[1,0].set_yscale('log')\n",
    "ax[1,0].legend(fontsize=15)\n",
    "ax[1,0].tick_params(axis='both', which='major', labelsize=18, size=8., width=1.5, pad=8.)\n",
    "ax[1,0].tick_params(axis='both', which='minor', labelsize=18, size=5., width=1.5, pad=8.)\n",
    "\n",
    "\n",
    "freqs = (idx - pix) * delta + mfreq\n",
    "bl = 30000; pol = 3\n",
    "vis_allfreq_XX_re = dataT['DATA'][bl,0,0,0,:,pol,0] #array with 768R & 7C\n",
    "vis_allfreq_XX_im = dataT['DATA'][bl,0,0,0,:,pol,1] #array with 768R & 7C\n",
    "vis_allfreq_XX_wt = dataT['DATA'][bl,0,0,0,:,pol,2] \n",
    "\n",
    "\n",
    "vis_allfreq_XX_re = vis_allfreq_XX_re[vis_allfreq_XX_wt > 0.]\n",
    "vis_allfreq_XX_im = vis_allfreq_XX_im[vis_allfreq_XX_wt > 0.]\n",
    "freqs = freqs[vis_allfreq_XX_wt > 0.]\n",
    "\n",
    "\n",
    "ax[1,1].plot(freqs,vis_allfreq_XX_re,label = 'Re')\n",
    "ax[1,1].plot(freqs,vis_allfreq_XX_im, label = 'Im')\n",
    "\n",
    "#ax[1,1].set_xlim([0.,np.rad2deg(1.)])\n",
    "ax[1,1].set_ylabel('Vis', fontsize=15,labelpad=10)\n",
    "#ax[1,1].text(2, 0.5e-3,r'Symmetric beam', fontsize=20)\n",
    "ax[1,1].set_xlabel(r'Freq(Hz)', fontsize=15)\n",
    "#ax[1,1].set_yscale('log')\n",
    "ax[1,1].legend(fontsize=15)\n",
    "ax[1,1].tick_params(axis='both', which='major', labelsize=18, size=8., width=1.5, pad=8.)\n",
    "ax[1,1].tick_params(axis='both', which='minor', labelsize=18, size=5., width=1.5, pad=8.)'''\n",
    "\n",
    "plt.savefig('bl = 30000; cutoff.pdf',bbox_inches='tight')"
   ]
  },
  {
   "cell_type": "code",
   "execution_count": 29,
   "id": "8f3f370c",
   "metadata": {},
   "outputs": [
    {
     "data": {
      "image/png": "[encoded data removed]",
      "text/plain": [
       "<Figure size 1440x576 with 2 Axes>"
      ]
     },
     "metadata": {
      "needs_background": "light"
     },
     "output_type": "display_data"
    }
   ],
   "source": [
    "fig, ax = plt.subplots(1, 2, figsize=(20, 8))\n",
    "\n",
    "freqs = (idx - pix) * delta + mfreq\n",
    "\n",
    "bl = 60000; pol = 0\n",
    "vis_allfreq_XX_re = dataT['DATA'][bl,0,0,0,:,pol,0] #array with 768R & 7C\n",
    "vis_allfreq_XX_im = dataT['DATA'][bl,0,0,0,:,pol,1] #array with 768R & 7C\n",
    "vis_allfreq_XX_wt = dataT['DATA'][bl,0,0,0,:,pol,2] \n",
    "\n",
    "\n",
    "vis_allfreq_XX_re = vis_allfreq_XX_re[vis_allfreq_XX_wt > 0.]\n",
    "vis_allfreq_XX_im = vis_allfreq_XX_im[vis_allfreq_XX_wt > 0.]\n",
    "freqs = freqs[vis_allfreq_XX_wt > 0.]\n",
    "\n",
    "ax[0].plot(freqs,vis_allfreq_XX_re,label = 'Re')\n",
    "ax[0].plot(freqs,vis_allfreq_XX_im, label = 'Im')\n",
    "\n",
    "#ax[0].set_xlim([0.,np.rad2deg(1.)])\n",
    "ax[0].set_ylabel('Vis', fontsize=15,labelpad=10)\n",
    "#ax[0].text(1.50e8, -145,r'XX; bl = 60000; cutoff', fontsize=20)\n",
    "ax[0].set_xlabel(r'Fre(Hz)', fontsize=15)\n",
    "#ax[0].set_yscale('log')\n",
    "ax[0].legend(fontsize=15)\n",
    "ax[0].tick_params(axis='both', which='major', labelsize=18, size=8., width=1.5, pad=8.)\n",
    "ax[0].tick_params(axis='both', which='minor', labelsize=18, size=5., width=1.5, pad=8.)\n",
    "\n",
    "freqs = (idx - pix) * delta + mfreq\n",
    "bl = 60000; pol = 1\n",
    "vis_allfreq_XX_re = dataT['DATA'][bl,0,0,0,:,pol,0] #array with 768R & 7C\n",
    "vis_allfreq_XX_im = dataT['DATA'][bl,0,0,0,:,pol,1] #array with 768R & 7C\n",
    "vis_allfreq_XX_wt = dataT['DATA'][bl,0,0,0,:,pol,2] \n",
    "\n",
    "\n",
    "vis_allfreq_XX_re = vis_allfreq_XX_re[vis_allfreq_XX_wt > 0.]\n",
    "vis_allfreq_XX_im = vis_allfreq_XX_im[vis_allfreq_XX_wt > 0.]\n",
    "freqs = freqs[vis_allfreq_XX_wt > 0.]\n",
    "\n",
    "ax[1].plot(freqs,vis_allfreq_XX_re,label = 'Re')\n",
    "ax[1].plot(freqs,vis_allfreq_XX_im, label = 'Im')\n",
    "#ax[1].text(1.48e8, -145,r'YY; bl = 60000; cutoff', fontsize=20)\n",
    "ax[1].set_ylabel('Vis', fontsize=16)\n",
    "ax[1].set_xlabel(r'Fre(Hz)]', fontsize=15)\n",
    "#ax[1].set_yscale('log')\n",
    "ax[1].legend(fontsize=15)\n",
    "ax[1].tick_params(axis='both', which='major', labelsize=18, size=8., width=1.5, pad=8.)\n",
    "ax[1].tick_params(axis='both', which='minor', labelsize=18, size=5., width=1.5, pad=8.)\n",
    "\n",
    "\n",
    "\n",
    "plt.savefig('bl = 60000; cutoff.pdf',bbox_inches='tight')"
   ]
  },
  {
   "cell_type": "code",
   "execution_count": 30,
   "id": "4ecceadb",
   "metadata": {},
   "outputs": [
    {
     "data": {
      "image/png": "[encoded data removed]",
      "text/plain": [
       "<Figure size 1440x432 with 2 Axes>"
      ]
     },
     "metadata": {
      "needs_background": "light"
     },
     "output_type": "display_data"
    }
   ],
   "source": [
    "fig, ax = plt.subplots(1, 2, figsize=(20, 6))\n",
    "\n",
    "freqs = (idx - pix) * delta + mfreq\n",
    "\n",
    "bl = 20000; pol = 0\n",
    "vis_allfreq_XX_re = dataT['DATA'][bl,0,0,0,:,pol,0] #array with 768R & 7C\n",
    "vis_allfreq_XX_im = dataT['DATA'][bl,0,0,0,:,pol,1] #array with 768R & 7C\n",
    "vis_allfreq_XX_wt = dataT['DATA'][bl,0,0,0,:,pol,2] \n",
    "\n",
    "\n",
    "vis_allfreq_XX_re = vis_allfreq_XX_re[vis_allfreq_XX_wt > 0.]\n",
    "vis_allfreq_XX_im = vis_allfreq_XX_im[vis_allfreq_XX_wt > 0.]\n",
    "freqs = freqs[vis_allfreq_XX_wt > 0.]\n",
    "\n",
    "ax[0].plot(freqs,vis_allfreq_XX_re,label = 'Re')\n",
    "ax[0].plot(freqs,vis_allfreq_XX_im, label = 'Im')\n",
    "\n",
    "#ax[0].set_xlim([0.,np.rad2deg(1.)])\n",
    "ax[0].set_ylabel('Vis', fontsize=15,labelpad=10)\n",
    "#ax[0].text(1.50e8, -150,r'XX ; bl = 20000' + os.linesep + 'cutoff', fontsize=20)\n",
    "ax[0].set_xlabel(r'Fre(Hz)', fontsize=15)\n",
    "#ax[0].set_yscale('log')\n",
    "ax[0].legend(fontsize=15)\n",
    "ax[0].tick_params(axis='both', which='major', labelsize=18, size=8., width=1.5, pad=8.)\n",
    "ax[0].tick_params(axis='both', which='minor', labelsize=18, size=5., width=1.5, pad=8.)\n",
    "\n",
    "freqs = (idx - pix) * delta + mfreq\n",
    "bl = 20000; pol = 1\n",
    "vis_allfreq_XX_re = dataT['DATA'][bl,0,0,0,:,pol,0] #array with 768R & 7C\n",
    "vis_allfreq_XX_im = dataT['DATA'][bl,0,0,0,:,pol,1] #array with 768R & 7C\n",
    "vis_allfreq_XX_wt = dataT['DATA'][bl,0,0,0,:,pol,2] \n",
    "\n",
    "\n",
    "vis_allfreq_XX_re = vis_allfreq_XX_re[vis_allfreq_XX_wt > 0.]\n",
    "vis_allfreq_XX_im = vis_allfreq_XX_im[vis_allfreq_XX_wt > 0.]\n",
    "freqs = freqs[vis_allfreq_XX_wt > 0.]\n",
    "\n",
    "ax[1].plot(freqs,vis_allfreq_XX_re,label = 'Re')\n",
    "ax[1].plot(freqs,vis_allfreq_XX_im, label = 'Im')\n",
    "#ax[1].text(1.50e8, -200,r'YY ; bl = 20000' + os.linesep + 'cutoff', fontsize=20)\n",
    "ax[1].set_ylabel('Vis', fontsize=16)\n",
    "ax[1].set_xlabel(r'Fre(Hz)]', fontsize=15)\n",
    "#ax[1].set_yscale('log')\n",
    "ax[1].legend(fontsize=15)\n",
    "ax[1].tick_params(axis='both', which='major', labelsize=18, size=8., width=1.5, pad=8.)\n",
    "ax[1].tick_params(axis='both', which='minor', labelsize=18, size=5., width=1.5, pad=8.)\n",
    "\n",
    "\n",
    "'''\n",
    "freqs = (idx - pix) * delta + mfreq\n",
    "bl = 20000; pol = 2\n",
    "vis_allfreq_XX_re = dataT['DATA'][bl,0,0,0,:,pol,0] #array with 768R & 7C\n",
    "vis_allfreq_XX_im = dataT['DATA'][bl,0,0,0,:,pol,1] #array with 768R & 7C\n",
    "vis_allfreq_XX_wt = dataT['DATA'][bl,0,0,0,:,pol,2] \n",
    "\n",
    "\n",
    "vis_allfreq_XX_re = vis_allfreq_XX_re[vis_allfreq_XX_wt > 0.]\n",
    "vis_allfreq_XX_im = vis_allfreq_XX_im[vis_allfreq_XX_wt > 0.]\n",
    "freqs = freqs[vis_allfreq_XX_wt > 0.]\n",
    "\n",
    "ax[1,0].plot(freqs,vis_allfreq_XX_re,label = 'Re')\n",
    "ax[1,0].plot(freqs,vis_allfreq_XX_im, label = 'Im')\n",
    "\n",
    "#ax[1,0].set_xlim([0.,np.rad2deg(1.)])\n",
    "ax[1,0].set_ylabel('Vis', fontsize=15,labelpad=10)\n",
    "#ax[1,0].text(2, 0.5e-3,r'Symmetric beam', fontsize=20)\n",
    "ax[1,0].set_xlabel(r'Freq(Hz)', fontsize=15)\n",
    "#ax[1,0].set_yscale('log')\n",
    "ax[1,0].legend(fontsize=15)\n",
    "ax[1,0].tick_params(axis='both', which='major', labelsize=18, size=8., width=1.5, pad=8.)\n",
    "ax[1,0].tick_params(axis='both', which='minor', labelsize=18, size=5., width=1.5, pad=8.)\n",
    "\n",
    "\n",
    "freqs = (idx - pix) * delta + mfreq\n",
    "bl = 20000; pol = 3\n",
    "vis_allfreq_XX_re = dataT['DATA'][bl,0,0,0,:,pol,0] #array with 768R & 7C\n",
    "vis_allfreq_XX_im = dataT['DATA'][bl,0,0,0,:,pol,1] #array with 768R & 7C\n",
    "vis_allfreq_XX_wt = dataT['DATA'][bl,0,0,0,:,pol,2] \n",
    "\n",
    "\n",
    "vis_allfreq_XX_re = vis_allfreq_XX_re[vis_allfreq_XX_wt > 0.]\n",
    "vis_allfreq_XX_im = vis_allfreq_XX_im[vis_allfreq_XX_wt > 0.]\n",
    "freqs = freqs[vis_allfreq_XX_wt > 0.]\n",
    "\n",
    "\n",
    "ax[1,1].plot(freqs,vis_allfreq_XX_re,label = 'Re')\n",
    "ax[1,1].plot(freqs,vis_allfreq_XX_im, label = 'Im')\n",
    "\n",
    "#ax[1,1].set_xlim([0.,np.rad2deg(1.)])\n",
    "ax[1,1].set_ylabel('Vis', fontsize=15,labelpad=10)\n",
    "#ax[1,1].text(2, 0.5e-3,r'Symmetric beam', fontsize=20)\n",
    "ax[1,1].set_xlabel(r'Freq(Hz)', fontsize=15)\n",
    "#ax[1,1].set_yscale('log')\n",
    "ax[1,1].legend(fontsize=15)\n",
    "ax[1,1].tick_params(axis='both', which='major', labelsize=18, size=8., width=1.5, pad=8.)\n",
    "ax[1,1].tick_params(axis='both', which='minor', labelsize=18, size=5., width=1.5, pad=8.)'''\n",
    "\n",
    "plt.savefig('bl = 20000; cutoff.pdf',bbox_inches='tight')"
   ]
  },
  {
   "cell_type": "code",
   "execution_count": 31,
   "id": "d1579892",
   "metadata": {},
   "outputs": [
    {
     "data": {
      "image/png": "[encoded data removed]",
      "text/plain": [
       "<Figure size 1440x432 with 2 Axes>"
      ]
     },
     "metadata": {
      "needs_background": "light"
     },
     "output_type": "display_data"
    }
   ],
   "source": [
    "fig, ax = plt.subplots(1, 2, figsize=(20, 6))\n",
    "\n",
    "freqs = (idx - pix) * delta + mfreq\n",
    "\n",
    "bl = 1000; pol = 0\n",
    "vis_allfreq_XX_re = dataT['DATA'][bl,0,0,0,:,pol,0] #array with 768R & 7C\n",
    "vis_allfreq_XX_im = dataT['DATA'][bl,0,0,0,:,pol,1] #array with 768R & 7C\n",
    "vis_allfreq_XX_wt = dataT['DATA'][bl,0,0,0,:,pol,2] \n",
    "\n",
    "\n",
    "vis_allfreq_XX_re = vis_allfreq_XX_re[vis_allfreq_XX_wt > 0.]\n",
    "vis_allfreq_XX_im = vis_allfreq_XX_im[vis_allfreq_XX_wt > 0.]\n",
    "freqs = freqs[vis_allfreq_XX_wt > 0.]\n",
    "\n",
    "ax[0].plot(freqs,vis_allfreq_XX_re,label = 'Re')\n",
    "ax[0].plot(freqs,vis_allfreq_XX_im, label = 'Im')\n",
    "\n",
    "#ax[0].set_xlim([0.,np.rad2deg(1.)])\n",
    "ax[0].set_ylabel('Vis', fontsize=15,labelpad=10)\n",
    "#ax[0].text(1.455e8, -150,r'XX ; bl = 1000' + os.linesep + 'cutoff', fontsize=20)\n",
    "ax[0].set_xlabel(r'Fre(Hz)', fontsize=15)\n",
    "#ax[0].set_yscale('log')\n",
    "ax[0].legend(fontsize=15)\n",
    "ax[0].tick_params(axis='both', which='major', labelsize=18, size=8., width=1.5, pad=8.)\n",
    "ax[0].tick_params(axis='both', which='minor', labelsize=18, size=5., width=1.5, pad=8.)\n",
    "\n",
    "freqs = (idx - pix) * delta + mfreq\n",
    "bl = 1000; pol = 1\n",
    "vis_allfreq_XX_re = dataT['DATA'][bl,0,0,0,:,pol,0] #array with 768R & 7C\n",
    "vis_allfreq_XX_im = dataT['DATA'][bl,0,0,0,:,pol,1] #array with 768R & 7C\n",
    "vis_allfreq_XX_wt = dataT['DATA'][bl,0,0,0,:,pol,2] \n",
    "\n",
    "\n",
    "vis_allfreq_XX_re = vis_allfreq_XX_re[vis_allfreq_XX_wt > 0.]\n",
    "vis_allfreq_XX_im = vis_allfreq_XX_im[vis_allfreq_XX_wt > 0.]\n",
    "freqs = freqs[vis_allfreq_XX_wt > 0.]\n",
    "\n",
    "ax[1].plot(freqs,vis_allfreq_XX_re,label = 'Re')\n",
    "ax[1].plot(freqs,vis_allfreq_XX_im, label = 'Im')\n",
    "#ax[1].text(1.455e8, -110,r'YY ; bl = 1000' + os.linesep + 'cutoff', fontsize=20)\n",
    "ax[1].set_ylabel('Vis', fontsize=16)\n",
    "ax[1].set_xlabel(r'Fre(Hz)]', fontsize=15)\n",
    "#ax[1].set_yscale('log')\n",
    "ax[1].legend(fontsize=15)\n",
    "ax[1].tick_params(axis='both', which='major', labelsize=18, size=8., width=1.5, pad=8.)\n",
    "ax[1].tick_params(axis='both', which='minor', labelsize=18, size=5., width=1.5, pad=8.)\n",
    "plt.savefig('bl = 1000; cutoff.pdf',bbox_inches='tight')"
   ]
  },
  {
   "cell_type": "code",
   "execution_count": 32,
   "id": "c84046ba",
   "metadata": {},
   "outputs": [],
   "source": [
    "time = hdulist[0].header['DATE-OBS']"
   ]
  },
  {
   "cell_type": "code",
   "execution_count": 33,
   "id": "6adc7d95",
   "metadata": {},
   "outputs": [
    {
     "name": "stdout",
     "output_type": "stream",
     "text": [
      "2016-10-12T16:42:03.999999\n"
     ]
    }
   ],
   "source": [
    "print(time)"
   ]
  }
 ],
 "metadata": {
  "kernelspec": {
   "display_name": "Python 3 (ipykernel)",
   "language": "python",
   "name": "python3"
  },
  "language_info": {
   "codemirror_mode": {
    "name": "ipython",
    "version": 3
   },
   "file_extension": ".py",
   "mimetype": "text/x-python",
   "name": "python",
   "nbconvert_exporter": "python",
   "pygments_lexer": "ipython3",
   "version": "3.11.4"
  }
 },
 "nbformat": 4,
 "nbformat_minor": 5
}
