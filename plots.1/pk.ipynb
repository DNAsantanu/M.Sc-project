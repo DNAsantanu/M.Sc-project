{
 "cells": [
  {
   "cell_type": "code",
   "execution_count": 3,
   "metadata": {
    "scrolled": true
   },
   "outputs": [],
   "source": [
    " import numpy as np\n",
    "import Lofar_modules_pk as pkmod"
   ]
  },
  {
   "cell_type": "markdown",
   "metadata": {},
   "source": []
  },
  {
   "cell_type": "code",
   "execution_count": null,
   "metadata": {},
   "outputs": [],
   "source": []
  },
  {
   "cell_type": "markdown",
   "metadata": {},
   "source": [
    "# Loadind noise variance"
   ]
  },
  {
   "cell_type": "code",
   "execution_count": 4,
   "metadata": {},
   "outputs": [],
   "source": [
    "ell=6\n",
    "N_c=151\n",
    "\n",
    "var2=np.zeros([N_c,N_c,ell])\n",
    "for ii in range (ell):\n",
    "    for jj in range (N_c):\n",
    "        var2[jj,jj,ii]=1."
   ]
  },
  {
   "cell_type": "markdown",
   "metadata": {},
   "source": [
    "# Data"
   ]
  },
  {
   "cell_type": "code",
   "execution_count": 5,
   "metadata": {},
   "outputs": [
    {
     "name": "stdout",
     "output_type": "stream",
     "text": [
      "deltanu=1.000000e-01 N_c=151 nbin=6\n"
     ]
    }
   ],
   "source": [
    "N_E=151\n",
    "window_type_list=['MS7']\n",
    "nbin_kpara=10\n",
    "\n",
    "cl=np.load('XX_cl_dnu_py.npy')\n",
    "\n",
    "for window_type in window_type_list :\n",
    "\n",
    "    OUTNAME='XX_PK_'\n",
    "    kper, kpara, power=pkmod.MLE(cl[:N_E+1,:],var2,N_E,window_type,OUTNAME)\n",
    "\n",
    "    OUTNAME='XX_'+window_type+'_'\n",
    "    kparallel, value=pkmod.binkpara(kper,kpara[0:151],power[0:151,:,:,:],nbin_kpara,OUTNAME)\n",
    "    "
   ]
  },
  {
   "cell_type": "code",
   "execution_count": 6,
   "metadata": {},
   "outputs": [],
   "source": [
    "kper=np.load('XX_PK_kper.npy')\n",
    "kpara=np.load('XX_PK_kpara.npy')\n",
    "power=np.load('XX_PK_pk.npy')"
   ]
  },
  {
   "cell_type": "code",
   "execution_count": 9,
   "metadata": {},
   "outputs": [],
   "source": [
    "r=9.448626e+03"
   ]
  },
  {
   "cell_type": "code",
   "execution_count": 7,
   "metadata": {},
   "outputs": [
    {
     "data": {
      "text/plain": [
       "array([0.0766249 , 0.11885326, 0.16182247, 0.20521502, 0.2480784 ,\n",
       "       0.2922118 ])"
      ]
     },
     "execution_count": 7,
     "metadata": {},
     "output_type": "execute_result"
    }
   ],
   "source": [
    "kper"
   ]
  },
  {
   "cell_type": "code",
   "execution_count": 12,
   "metadata": {},
   "outputs": [
    {
     "data": {
      "text/plain": [
       "array([0.0766249 , 0.11885326, 0.16182247, 0.20521502, 0.2480784 ,\n",
       "       0.2922118 ])"
      ]
     },
     "execution_count": 12,
     "metadata": {},
     "output_type": "execute_result"
    }
   ],
   "source": [
    "ell/r"
   ]
  },
  {
   "cell_type": "code",
   "execution_count": 11,
   "metadata": {},
   "outputs": [],
   "source": [
    "ell=cl[0,1:]\n",
    "Cl=cl[1:,:]\n",
    "dnu=cl[:,0]"
   ]
  },
  {
   "cell_type": "code",
   "execution_count": null,
   "metadata": {},
   "outputs": [],
   "source": [
    "len(cl)"
   ]
  },
  {
   "cell_type": "code",
   "execution_count": null,
   "metadata": {},
   "outputs": [],
   "source": []
  },
  {
   "cell_type": "code",
   "execution_count": null,
   "metadata": {},
   "outputs": [],
   "source": [
    "dnu"
   ]
  },
  {
   "cell_type": "code",
   "execution_count": null,
   "metadata": {},
   "outputs": [],
   "source": [
    "Cl[1:,0:]"
   ]
  },
  {
   "cell_type": "code",
   "execution_count": null,
   "metadata": {},
   "outputs": [],
   "source": [
    "Cl[149,1:]"
   ]
  },
  {
   "cell_type": "code",
   "execution_count": null,
   "metadata": {},
   "outputs": [],
   "source": [
    "cl[150,1:]"
   ]
  },
  {
   "cell_type": "code",
   "execution_count": null,
   "metadata": {
    "scrolled": true
   },
   "outputs": [],
   "source": [
    "kper"
   ]
  },
  {
   "cell_type": "code",
   "execution_count": null,
   "metadata": {},
   "outputs": [],
   "source": [
    "kpara[140:150]"
   ]
  },
  {
   "cell_type": "code",
   "execution_count": null,
   "metadata": {},
   "outputs": [],
   "source": [
    "kpara[:10]"
   ]
  },
  {
   "cell_type": "code",
   "execution_count": null,
   "metadata": {},
   "outputs": [],
   "source": [
    " kparallel"
   ]
  },
  {
   "cell_type": "code",
   "execution_count": null,
   "metadata": {},
   "outputs": [],
   "source": [
    "# power.shape\n",
    "for i in range(len(kparallel)-1):\n",
    "    print(kparallel[i+1]-kparallel[i])\n"
   ]
  },
  {
   "cell_type": "code",
   "execution_count": null,
   "metadata": {},
   "outputs": [],
   "source": [
    "len(kper)"
   ]
  },
  {
   "cell_type": "code",
   "execution_count": null,
   "metadata": {},
   "outputs": [],
   "source": [
    "kper"
   ]
  },
  {
   "cell_type": "code",
   "execution_count": null,
   "metadata": {},
   "outputs": [],
   "source": [
    "power=power[:,:,0,0]\n",
    "power.shape"
   ]
  },
  {
   "cell_type": "code",
   "execution_count": null,
   "metadata": {},
   "outputs": [],
   "source": [
    "print(value)"
   ]
  },
  {
   "cell_type": "code",
   "execution_count": null,
   "metadata": {},
   "outputs": [],
   "source": [
    "pkmod.plot_heatmap(kper,kpara,power,OUTNAME)\n",
    "pkmod.plot_heatmap(kper,kparallel,value[:,:],OUTNAME)"
   ]
  },
  {
   "cell_type": "code",
   "execution_count": null,
   "metadata": {},
   "outputs": [],
   "source": [
    "kper_model=np.loadtxt('bins_kper.txt')\n",
    "kpara_model=np.loadtxt('bins_kpar.txt')\n",
    "value_model=np.loadtxt('TestDatasetTRUTH_166MHz-181MHz.data')"
   ]
  },
  {
   "cell_type": "code",
   "execution_count": null,
   "metadata": {},
   "outputs": [],
   "source": [
    "print(kper_model.shape,kpara_model.shape,value_model.shape)"
   ]
  },
  {
   "cell_type": "code",
   "execution_count": null,
   "metadata": {},
   "outputs": [],
   "source": [
    "print(value)"
   ]
  },
  {
   "cell_type": "code",
   "execution_count": null,
   "metadata": {},
   "outputs": [],
   "source": [
    "print(value_model)"
   ]
  },
  {
   "cell_type": "code",
   "execution_count": null,
   "metadata": {},
   "outputs": [],
   "source": [
    "print((value_model[:,0:6]))"
   ]
  },
  {
   "cell_type": "code",
   "execution_count": null,
   "metadata": {},
   "outputs": [],
   "source": [
    "print(kper_model[:6])"
   ]
  },
  {
   "cell_type": "code",
   "execution_count": null,
   "metadata": {},
   "outputs": [],
   "source": [
    "print(kpara_model)"
   ]
  },
  {
   "cell_type": "code",
   "execution_count": null,
   "metadata": {},
   "outputs": [],
   "source": [
    "print(kper)"
   ]
  },
  {
   "cell_type": "code",
   "execution_count": null,
   "metadata": {},
   "outputs": [],
   "source": [
    "print(kparallel)"
   ]
  },
  {
   "cell_type": "code",
   "execution_count": null,
   "metadata": {},
   "outputs": [],
   "source": [
    "pkmod.plot_heatmap(kper_model[:6],kpara_model,value_model[:,0:6],OUTNAME)"
   ]
  },
  {
   "cell_type": "code",
   "execution_count": null,
   "metadata": {},
   "outputs": [],
   "source": [
    "import matplotlib.pyplot as plt"
   ]
  },
  {
   "cell_type": "code",
   "execution_count": null,
   "metadata": {},
   "outputs": [],
   "source": [
    "for ii in range (ell):\n",
    "    fig = plt.figure()\n",
    "    plt.rc('text',usetex=True)\n",
    "\n",
    "    plt.plot(kparallel,value[:,ii])\n",
    "    \n",
    "    fig.text(0.5, 0.015, r'$k_{\\parallel}\\,\\,[{\\rm Mpc}^{-1}]$',size=18,fontweight='bold')\n",
    "    fig.text(0.0, 0.45, r'$P(k_{\\parallel})\\,\\, [{\\rm K}^{2}\\,\\,{\\rm Mpc}^{3}]$',size=18,fontweight='bold', rotation='vertical')\n",
    "    \n",
    "    plt.show()"
   ]
  },
  {
   "cell_type": "code",
   "execution_count": null,
   "metadata": {},
   "outputs": [],
   "source": [
    "import matplotlib.pyplot as plt\n",
    "import matplotlib.colors as colors\n",
    "from matplotlib.colors import LogNorm\n",
    "import matplotlib.ticker as ticker\n",
    "from matplotlib.ticker import FormatStrFormatter\n",
    "from matplotlib import rc"
   ]
  },
  {
   "cell_type": "code",
   "execution_count": null,
   "metadata": {},
   "outputs": [],
   "source": [
    "nbin_kper=len(kper)\n",
    "nbin_kpara=len(kparallel)\n",
    "\n",
    "plt.rc('text',usetex=True)\n",
    "\n",
    "X=np.zeros([nbin_kpara,nbin_kper])\n",
    "Y=np.zeros([nbin_kpara,nbin_kper])\n",
    "\n",
    "for ii in range (0,nbin_kpara,1):\n",
    "\tfor jj in range (0,nbin_kper,1):\n",
    "\t\tX[ii,jj]=kper[jj]\n",
    "\n",
    "for ii in range (0,nbin_kpara,1):\n",
    "\tfor jj in range (0,nbin_kper,1):\n",
    "\t\tY[ii,jj]=kparallel[ii]\n",
    "\n",
    "fig=plt.figure()\n",
    "\n",
    "z_minimum=[]\n",
    "\n",
    "z_minimum = np.append(z_minimum,np.amin(np.abs(value)))    \n",
    "z_min=np.amin(abs(z_minimum))*10**6\n",
    "\n",
    "z_maximum=[]\n",
    "\n",
    "z_maximum = np.append(z_maximum,np.amax(np.abs(value)))   \n",
    "z_max = np.amax(abs(z_maximum))*10**6\n",
    "\n",
    "\n",
    "c = plt.pcolormesh(X, Y, np.abs(value)*10**6, cmap = 'RdYlGn_r',norm = LogNorm(vmin = z_min, vmax = z_max))\n",
    "\n",
    "plt.xscale('log')\n",
    "plt.yscale('log')\n",
    "\n",
    "plt.tick_params(labelcolor = 'k',size = 4,labelsize = 20,pad = 10,direction = 'in',which = 'both')\n",
    "plt.xticks([0.06,0.1,0.2,0.3,0.4],[r'$0.06$',r'$0.1$',r'$0.2$',r'$0.3$',r'$0.4$'])\n",
    "plt.yticks([0.06,0.1,0.2,0.3,0.4],[r'$0.06$',r'$0.1$',r'$0.2$',r'$0.3$',r'$0.4$'])\n",
    "\n",
    "plt.axis([kper_model.min(), kper_model.max(), kpara_model.min(), kpara_model.max()])\n",
    "\n",
    "# colorbar axis... \n",
    "\n",
    "cb = plt.colorbar(c)\n",
    "cb.set_label(label = 'P ($k_{\\perp}$,$k_{\\parallel}$) mK$^2$ MPc$^{3}$',labelpad = 10,fontsize = 18)\n",
    "cb.ax.tick_params(labelcolor='k',size = 4, labelsize = 20, pad = 10, direction= 'in', which = 'both')\n",
    "\n",
    "plt.xlabel(r'$k_{\\perp}$ MPc$^{-1}$', fontsize = 18,labelpad=10)\n",
    "plt.ylabel(r'$k_{\\parallel}$ MPc$^{-1}$', fontsize = 18,labelpad=10)\n",
    "\n",
    "plt.show()"
   ]
  },
  {
   "cell_type": "code",
   "execution_count": null,
   "metadata": {},
   "outputs": [],
   "source": [
    "nbin_kper=len(kper_model)\n",
    "nbin_kpara=len(kpara_model)\n",
    "\n",
    "plt.rc('text',usetex=True)\n",
    "\n",
    "X=np.zeros([nbin_kpara,nbin_kper])\n",
    "Y=np.zeros([nbin_kpara,nbin_kper])\n",
    "\n",
    "for ii in range (0,nbin_kpara,1):\n",
    "\tfor jj in range (0,nbin_kper,1):\n",
    "\t\tX[ii,jj]=kper_model[jj]\n",
    "\n",
    "for ii in range (0,nbin_kpara,1):\n",
    "\tfor jj in range (0,nbin_kper,1):\n",
    "\t\tY[ii,jj]=kpara_model[ii]\n",
    "\n",
    "fig=plt.figure()\n",
    "\n",
    "c = plt.pcolormesh(X, Y, np.abs(value_model)*10**6, cmap = 'RdYlGn_r',norm = LogNorm(vmin = z_min, vmax = z_max))\n",
    "\n",
    "plt.xscale('log')\n",
    "plt.yscale('log')\n",
    "\n",
    "plt.tick_params(labelcolor = 'k',size = 4,labelsize = 20,pad = 10, direction = 'in',which = 'both')\n",
    "plt.xticks([0.06,0.1,0.2,0.3,0.4],[r'$0.06$',r'$0.1$',r'$0.2$',r'$0.3$',r'$0.4$'])\n",
    "plt.yticks([0.06,0.1,0.2,0.3,0.4],[r'$0.06$',r'$0.1$',r'$0.2$',r'$0.3$',r'$0.4$'])\n",
    "\n",
    "plt.axis([kper_model.min(), kper_model.max(), kpara_model.min(), kpara_model.max()])\n",
    "\n",
    "# colorbar axis... \n",
    "\n",
    "cb = plt.colorbar(c)\n",
    "cb.set_label(label = 'P ($k_{\\perp}$,$k_{\\parallel}$) mK$^2$ MPc$^{3}$',labelpad = 10,fontsize = 18)\n",
    "cb.ax.tick_params(labelcolor='k',size = 4, labelsize = 20, pad = 10, direction= 'in', which = 'both')\n",
    "\n",
    "plt.xlabel(r'$k_{\\perp}$ MPc$^{-1}$', fontsize = 18,labelpad=10)\n",
    "plt.ylabel(r'$k_{\\parallel}$ MPc$^{-1}$', fontsize = 18,labelpad=10)\n",
    "\n",
    "plt.show()"
   ]
  },
  {
   "cell_type": "code",
   "execution_count": null,
   "metadata": {},
   "outputs": [],
   "source": []
  }
 ],
 "metadata": {
  "kernelspec": {
   "display_name": "Python 3 (ipykernel)",
   "language": "python",
   "name": "python3"
  },
  "language_info": {
   "codemirror_mode": {
    "name": "ipython",
    "version": 3
   },
   "file_extension": ".py",
   "mimetype": "text/x-python",
   "name": "python",
   "nbconvert_exporter": "python",
   "pygments_lexer": "ipython3",
   "version": "3.11.6"
  }
 },
 "nbformat": 4,
 "nbformat_minor": 4
}
